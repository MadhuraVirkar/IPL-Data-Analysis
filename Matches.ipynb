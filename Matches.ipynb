{
  "nbformat": 4,
  "nbformat_minor": 0,
  "metadata": {
    "colab": {
      "provenance": []
    },
    "kernelspec": {
      "name": "python3",
      "display_name": "Python 3"
    },
    "language_info": {
      "name": "python"
    }
  },
  "cells": [
    {
      "cell_type": "code",
      "execution_count": 32,
      "metadata": {
        "id": "040bgM_BbK9_"
      },
      "outputs": [],
      "source": [
        "import numpy as np\n",
        "import pandas as pd\n",
        "import matplotlib as plt\n",
        "import matplotlib.pyplot as plt\n",
        "import seaborn as sns\n",
        "import missingno as msno\n",
        "from sklearn import preprocessing\n",
        "import matplotlib.pyplot as plt"
      ]
    },
    {
      "cell_type": "code",
      "source": [
        "df1 = pd.read_csv(\"matches_2008-2024.csv\",low_memory=False)"
      ],
      "metadata": {
        "id": "t5QgcRfJVaE1"
      },
      "execution_count": 33,
      "outputs": []
    },
    {
      "cell_type": "code",
      "source": [
        "df1.head()"
      ],
      "metadata": {
        "colab": {
          "base_uri": "https://localhost:8080/",
          "height": 446
        },
        "id": "yjh_yF06VaCK",
        "outputId": "5ab45078-8306-448d-fbbf-9664ea48dc89"
      },
      "execution_count": 34,
      "outputs": [
        {
          "output_type": "execute_result",
          "data": {
            "text/plain": [
              "       id  season        city        date match_type player_of_match  \\\n",
              "0  335982    2008   Bangalore  04/18/2008     League     BB McCullum   \n",
              "1  335983    2008  Chandigarh  04/19/2008     League      MEK Hussey   \n",
              "2  335984    2008       Delhi  04/19/2008     League     MF Maharoof   \n",
              "3  335985    2008      Mumbai  04/20/2008     League      MV Boucher   \n",
              "4  335986    2008     Kolkata  04/20/2008     League       DJ Hussey   \n",
              "\n",
              "                                venue Unnamed: 7 Unnamed: 8  \\\n",
              "0               M Chinnaswamy Stadium        NaN        NaN   \n",
              "1  Punjab Cricket Association Stadium     Mohali        NaN   \n",
              "2                    Feroz Shah Kotla        NaN        NaN   \n",
              "3                    Wankhede Stadium        NaN        NaN   \n",
              "4                        Eden Gardens        NaN        NaN   \n",
              "\n",
              "                         team1  ... toss_decision  \\\n",
              "0  Royal Challengers Bangalore  ...         field   \n",
              "1              Kings XI Punjab  ...           bat   \n",
              "2             Delhi Daredevils  ...           bat   \n",
              "3               Mumbai Indians  ...           bat   \n",
              "4        Kolkata Knight Riders  ...           bat   \n",
              "\n",
              "                        winner   result result_margin target_runs  \\\n",
              "0        Kolkata Knight Riders     runs         140.0       223.0   \n",
              "1          Chennai Super Kings     runs          33.0       241.0   \n",
              "2             Delhi Daredevils  wickets           9.0       130.0   \n",
              "3  Royal Challengers Bangalore  wickets           5.0       166.0   \n",
              "4        Kolkata Knight Riders  wickets           5.0       111.0   \n",
              "\n",
              "   target_overs  super_over  method    umpire1         umpire2  \n",
              "0          20.0           N     NaN  Asad Rauf     RE Koertzen  \n",
              "1          20.0           N     NaN  MR Benson      SL Shastri  \n",
              "2          20.0           N     NaN  Aleem Dar  GA Pratapkumar  \n",
              "3          20.0           N     NaN   SJ Davis       DJ Harper  \n",
              "4          20.0           N     NaN  BF Bowden     K Hariharan  \n",
              "\n",
              "[5 rows x 22 columns]"
            ],
            "text/html": [
              "\n",
              "  <div id=\"df-14f8b4a4-4a41-40b1-b4f8-b4c56c4472ec\" class=\"colab-df-container\">\n",
              "    <div>\n",
              "<style scoped>\n",
              "    .dataframe tbody tr th:only-of-type {\n",
              "        vertical-align: middle;\n",
              "    }\n",
              "\n",
              "    .dataframe tbody tr th {\n",
              "        vertical-align: top;\n",
              "    }\n",
              "\n",
              "    .dataframe thead th {\n",
              "        text-align: right;\n",
              "    }\n",
              "</style>\n",
              "<table border=\"1\" class=\"dataframe\">\n",
              "  <thead>\n",
              "    <tr style=\"text-align: right;\">\n",
              "      <th></th>\n",
              "      <th>id</th>\n",
              "      <th>season</th>\n",
              "      <th>city</th>\n",
              "      <th>date</th>\n",
              "      <th>match_type</th>\n",
              "      <th>player_of_match</th>\n",
              "      <th>venue</th>\n",
              "      <th>Unnamed: 7</th>\n",
              "      <th>Unnamed: 8</th>\n",
              "      <th>team1</th>\n",
              "      <th>...</th>\n",
              "      <th>toss_decision</th>\n",
              "      <th>winner</th>\n",
              "      <th>result</th>\n",
              "      <th>result_margin</th>\n",
              "      <th>target_runs</th>\n",
              "      <th>target_overs</th>\n",
              "      <th>super_over</th>\n",
              "      <th>method</th>\n",
              "      <th>umpire1</th>\n",
              "      <th>umpire2</th>\n",
              "    </tr>\n",
              "  </thead>\n",
              "  <tbody>\n",
              "    <tr>\n",
              "      <th>0</th>\n",
              "      <td>335982</td>\n",
              "      <td>2008</td>\n",
              "      <td>Bangalore</td>\n",
              "      <td>04/18/2008</td>\n",
              "      <td>League</td>\n",
              "      <td>BB McCullum</td>\n",
              "      <td>M Chinnaswamy Stadium</td>\n",
              "      <td>NaN</td>\n",
              "      <td>NaN</td>\n",
              "      <td>Royal Challengers Bangalore</td>\n",
              "      <td>...</td>\n",
              "      <td>field</td>\n",
              "      <td>Kolkata Knight Riders</td>\n",
              "      <td>runs</td>\n",
              "      <td>140.0</td>\n",
              "      <td>223.0</td>\n",
              "      <td>20.0</td>\n",
              "      <td>N</td>\n",
              "      <td>NaN</td>\n",
              "      <td>Asad Rauf</td>\n",
              "      <td>RE Koertzen</td>\n",
              "    </tr>\n",
              "    <tr>\n",
              "      <th>1</th>\n",
              "      <td>335983</td>\n",
              "      <td>2008</td>\n",
              "      <td>Chandigarh</td>\n",
              "      <td>04/19/2008</td>\n",
              "      <td>League</td>\n",
              "      <td>MEK Hussey</td>\n",
              "      <td>Punjab Cricket Association Stadium</td>\n",
              "      <td>Mohali</td>\n",
              "      <td>NaN</td>\n",
              "      <td>Kings XI Punjab</td>\n",
              "      <td>...</td>\n",
              "      <td>bat</td>\n",
              "      <td>Chennai Super Kings</td>\n",
              "      <td>runs</td>\n",
              "      <td>33.0</td>\n",
              "      <td>241.0</td>\n",
              "      <td>20.0</td>\n",
              "      <td>N</td>\n",
              "      <td>NaN</td>\n",
              "      <td>MR Benson</td>\n",
              "      <td>SL Shastri</td>\n",
              "    </tr>\n",
              "    <tr>\n",
              "      <th>2</th>\n",
              "      <td>335984</td>\n",
              "      <td>2008</td>\n",
              "      <td>Delhi</td>\n",
              "      <td>04/19/2008</td>\n",
              "      <td>League</td>\n",
              "      <td>MF Maharoof</td>\n",
              "      <td>Feroz Shah Kotla</td>\n",
              "      <td>NaN</td>\n",
              "      <td>NaN</td>\n",
              "      <td>Delhi Daredevils</td>\n",
              "      <td>...</td>\n",
              "      <td>bat</td>\n",
              "      <td>Delhi Daredevils</td>\n",
              "      <td>wickets</td>\n",
              "      <td>9.0</td>\n",
              "      <td>130.0</td>\n",
              "      <td>20.0</td>\n",
              "      <td>N</td>\n",
              "      <td>NaN</td>\n",
              "      <td>Aleem Dar</td>\n",
              "      <td>GA Pratapkumar</td>\n",
              "    </tr>\n",
              "    <tr>\n",
              "      <th>3</th>\n",
              "      <td>335985</td>\n",
              "      <td>2008</td>\n",
              "      <td>Mumbai</td>\n",
              "      <td>04/20/2008</td>\n",
              "      <td>League</td>\n",
              "      <td>MV Boucher</td>\n",
              "      <td>Wankhede Stadium</td>\n",
              "      <td>NaN</td>\n",
              "      <td>NaN</td>\n",
              "      <td>Mumbai Indians</td>\n",
              "      <td>...</td>\n",
              "      <td>bat</td>\n",
              "      <td>Royal Challengers Bangalore</td>\n",
              "      <td>wickets</td>\n",
              "      <td>5.0</td>\n",
              "      <td>166.0</td>\n",
              "      <td>20.0</td>\n",
              "      <td>N</td>\n",
              "      <td>NaN</td>\n",
              "      <td>SJ Davis</td>\n",
              "      <td>DJ Harper</td>\n",
              "    </tr>\n",
              "    <tr>\n",
              "      <th>4</th>\n",
              "      <td>335986</td>\n",
              "      <td>2008</td>\n",
              "      <td>Kolkata</td>\n",
              "      <td>04/20/2008</td>\n",
              "      <td>League</td>\n",
              "      <td>DJ Hussey</td>\n",
              "      <td>Eden Gardens</td>\n",
              "      <td>NaN</td>\n",
              "      <td>NaN</td>\n",
              "      <td>Kolkata Knight Riders</td>\n",
              "      <td>...</td>\n",
              "      <td>bat</td>\n",
              "      <td>Kolkata Knight Riders</td>\n",
              "      <td>wickets</td>\n",
              "      <td>5.0</td>\n",
              "      <td>111.0</td>\n",
              "      <td>20.0</td>\n",
              "      <td>N</td>\n",
              "      <td>NaN</td>\n",
              "      <td>BF Bowden</td>\n",
              "      <td>K Hariharan</td>\n",
              "    </tr>\n",
              "  </tbody>\n",
              "</table>\n",
              "<p>5 rows × 22 columns</p>\n",
              "</div>\n",
              "    <div class=\"colab-df-buttons\">\n",
              "\n",
              "  <div class=\"colab-df-container\">\n",
              "    <button class=\"colab-df-convert\" onclick=\"convertToInteractive('df-14f8b4a4-4a41-40b1-b4f8-b4c56c4472ec')\"\n",
              "            title=\"Convert this dataframe to an interactive table.\"\n",
              "            style=\"display:none;\">\n",
              "\n",
              "  <svg xmlns=\"http://www.w3.org/2000/svg\" height=\"24px\" viewBox=\"0 -960 960 960\">\n",
              "    <path d=\"M120-120v-720h720v720H120Zm60-500h600v-160H180v160Zm220 220h160v-160H400v160Zm0 220h160v-160H400v160ZM180-400h160v-160H180v160Zm440 0h160v-160H620v160ZM180-180h160v-160H180v160Zm440 0h160v-160H620v160Z\"/>\n",
              "  </svg>\n",
              "    </button>\n",
              "\n",
              "  <style>\n",
              "    .colab-df-container {\n",
              "      display:flex;\n",
              "      gap: 12px;\n",
              "    }\n",
              "\n",
              "    .colab-df-convert {\n",
              "      background-color: #E8F0FE;\n",
              "      border: none;\n",
              "      border-radius: 50%;\n",
              "      cursor: pointer;\n",
              "      display: none;\n",
              "      fill: #1967D2;\n",
              "      height: 32px;\n",
              "      padding: 0 0 0 0;\n",
              "      width: 32px;\n",
              "    }\n",
              "\n",
              "    .colab-df-convert:hover {\n",
              "      background-color: #E2EBFA;\n",
              "      box-shadow: 0px 1px 2px rgba(60, 64, 67, 0.3), 0px 1px 3px 1px rgba(60, 64, 67, 0.15);\n",
              "      fill: #174EA6;\n",
              "    }\n",
              "\n",
              "    .colab-df-buttons div {\n",
              "      margin-bottom: 4px;\n",
              "    }\n",
              "\n",
              "    [theme=dark] .colab-df-convert {\n",
              "      background-color: #3B4455;\n",
              "      fill: #D2E3FC;\n",
              "    }\n",
              "\n",
              "    [theme=dark] .colab-df-convert:hover {\n",
              "      background-color: #434B5C;\n",
              "      box-shadow: 0px 1px 3px 1px rgba(0, 0, 0, 0.15);\n",
              "      filter: drop-shadow(0px 1px 2px rgba(0, 0, 0, 0.3));\n",
              "      fill: #FFFFFF;\n",
              "    }\n",
              "  </style>\n",
              "\n",
              "    <script>\n",
              "      const buttonEl =\n",
              "        document.querySelector('#df-14f8b4a4-4a41-40b1-b4f8-b4c56c4472ec button.colab-df-convert');\n",
              "      buttonEl.style.display =\n",
              "        google.colab.kernel.accessAllowed ? 'block' : 'none';\n",
              "\n",
              "      async function convertToInteractive(key) {\n",
              "        const element = document.querySelector('#df-14f8b4a4-4a41-40b1-b4f8-b4c56c4472ec');\n",
              "        const dataTable =\n",
              "          await google.colab.kernel.invokeFunction('convertToInteractive',\n",
              "                                                    [key], {});\n",
              "        if (!dataTable) return;\n",
              "\n",
              "        const docLinkHtml = 'Like what you see? Visit the ' +\n",
              "          '<a target=\"_blank\" href=https://colab.research.google.com/notebooks/data_table.ipynb>data table notebook</a>'\n",
              "          + ' to learn more about interactive tables.';\n",
              "        element.innerHTML = '';\n",
              "        dataTable['output_type'] = 'display_data';\n",
              "        await google.colab.output.renderOutput(dataTable, element);\n",
              "        const docLink = document.createElement('div');\n",
              "        docLink.innerHTML = docLinkHtml;\n",
              "        element.appendChild(docLink);\n",
              "      }\n",
              "    </script>\n",
              "  </div>\n",
              "\n",
              "\n",
              "<div id=\"df-3960c543-387c-4b46-b688-59e96a89b70e\">\n",
              "  <button class=\"colab-df-quickchart\" onclick=\"quickchart('df-3960c543-387c-4b46-b688-59e96a89b70e')\"\n",
              "            title=\"Suggest charts\"\n",
              "            style=\"display:none;\">\n",
              "\n",
              "<svg xmlns=\"http://www.w3.org/2000/svg\" height=\"24px\"viewBox=\"0 0 24 24\"\n",
              "     width=\"24px\">\n",
              "    <g>\n",
              "        <path d=\"M19 3H5c-1.1 0-2 .9-2 2v14c0 1.1.9 2 2 2h14c1.1 0 2-.9 2-2V5c0-1.1-.9-2-2-2zM9 17H7v-7h2v7zm4 0h-2V7h2v10zm4 0h-2v-4h2v4z\"/>\n",
              "    </g>\n",
              "</svg>\n",
              "  </button>\n",
              "\n",
              "<style>\n",
              "  .colab-df-quickchart {\n",
              "      --bg-color: #E8F0FE;\n",
              "      --fill-color: #1967D2;\n",
              "      --hover-bg-color: #E2EBFA;\n",
              "      --hover-fill-color: #174EA6;\n",
              "      --disabled-fill-color: #AAA;\n",
              "      --disabled-bg-color: #DDD;\n",
              "  }\n",
              "\n",
              "  [theme=dark] .colab-df-quickchart {\n",
              "      --bg-color: #3B4455;\n",
              "      --fill-color: #D2E3FC;\n",
              "      --hover-bg-color: #434B5C;\n",
              "      --hover-fill-color: #FFFFFF;\n",
              "      --disabled-bg-color: #3B4455;\n",
              "      --disabled-fill-color: #666;\n",
              "  }\n",
              "\n",
              "  .colab-df-quickchart {\n",
              "    background-color: var(--bg-color);\n",
              "    border: none;\n",
              "    border-radius: 50%;\n",
              "    cursor: pointer;\n",
              "    display: none;\n",
              "    fill: var(--fill-color);\n",
              "    height: 32px;\n",
              "    padding: 0;\n",
              "    width: 32px;\n",
              "  }\n",
              "\n",
              "  .colab-df-quickchart:hover {\n",
              "    background-color: var(--hover-bg-color);\n",
              "    box-shadow: 0 1px 2px rgba(60, 64, 67, 0.3), 0 1px 3px 1px rgba(60, 64, 67, 0.15);\n",
              "    fill: var(--button-hover-fill-color);\n",
              "  }\n",
              "\n",
              "  .colab-df-quickchart-complete:disabled,\n",
              "  .colab-df-quickchart-complete:disabled:hover {\n",
              "    background-color: var(--disabled-bg-color);\n",
              "    fill: var(--disabled-fill-color);\n",
              "    box-shadow: none;\n",
              "  }\n",
              "\n",
              "  .colab-df-spinner {\n",
              "    border: 2px solid var(--fill-color);\n",
              "    border-color: transparent;\n",
              "    border-bottom-color: var(--fill-color);\n",
              "    animation:\n",
              "      spin 1s steps(1) infinite;\n",
              "  }\n",
              "\n",
              "  @keyframes spin {\n",
              "    0% {\n",
              "      border-color: transparent;\n",
              "      border-bottom-color: var(--fill-color);\n",
              "      border-left-color: var(--fill-color);\n",
              "    }\n",
              "    20% {\n",
              "      border-color: transparent;\n",
              "      border-left-color: var(--fill-color);\n",
              "      border-top-color: var(--fill-color);\n",
              "    }\n",
              "    30% {\n",
              "      border-color: transparent;\n",
              "      border-left-color: var(--fill-color);\n",
              "      border-top-color: var(--fill-color);\n",
              "      border-right-color: var(--fill-color);\n",
              "    }\n",
              "    40% {\n",
              "      border-color: transparent;\n",
              "      border-right-color: var(--fill-color);\n",
              "      border-top-color: var(--fill-color);\n",
              "    }\n",
              "    60% {\n",
              "      border-color: transparent;\n",
              "      border-right-color: var(--fill-color);\n",
              "    }\n",
              "    80% {\n",
              "      border-color: transparent;\n",
              "      border-right-color: var(--fill-color);\n",
              "      border-bottom-color: var(--fill-color);\n",
              "    }\n",
              "    90% {\n",
              "      border-color: transparent;\n",
              "      border-bottom-color: var(--fill-color);\n",
              "    }\n",
              "  }\n",
              "</style>\n",
              "\n",
              "  <script>\n",
              "    async function quickchart(key) {\n",
              "      const quickchartButtonEl =\n",
              "        document.querySelector('#' + key + ' button');\n",
              "      quickchartButtonEl.disabled = true;  // To prevent multiple clicks.\n",
              "      quickchartButtonEl.classList.add('colab-df-spinner');\n",
              "      try {\n",
              "        const charts = await google.colab.kernel.invokeFunction(\n",
              "            'suggestCharts', [key], {});\n",
              "      } catch (error) {\n",
              "        console.error('Error during call to suggestCharts:', error);\n",
              "      }\n",
              "      quickchartButtonEl.classList.remove('colab-df-spinner');\n",
              "      quickchartButtonEl.classList.add('colab-df-quickchart-complete');\n",
              "    }\n",
              "    (() => {\n",
              "      let quickchartButtonEl =\n",
              "        document.querySelector('#df-3960c543-387c-4b46-b688-59e96a89b70e button');\n",
              "      quickchartButtonEl.style.display =\n",
              "        google.colab.kernel.accessAllowed ? 'block' : 'none';\n",
              "    })();\n",
              "  </script>\n",
              "</div>\n",
              "\n",
              "    </div>\n",
              "  </div>\n"
            ],
            "application/vnd.google.colaboratory.intrinsic+json": {
              "type": "dataframe",
              "variable_name": "df1"
            }
          },
          "metadata": {},
          "execution_count": 34
        }
      ]
    },
    {
      "cell_type": "markdown",
      "source": [
        "# **Basic Exploration**"
      ],
      "metadata": {
        "id": "Dt62piNTV96Q"
      }
    },
    {
      "cell_type": "code",
      "source": [
        "# Matches were played in each city\n",
        "df1['city'].value_counts()"
      ],
      "metadata": {
        "colab": {
          "base_uri": "https://localhost:8080/",
          "height": 1000
        },
        "id": "DCk-iqg7VZ_T",
        "outputId": "d22c3e6c-1ab8-41c3-d3d6-008698369954"
      },
      "execution_count": 35,
      "outputs": [
        {
          "output_type": "execute_result",
          "data": {
            "text/plain": [
              "city\n",
              "Mumbai            173\n",
              "Kolkata            93\n",
              "Delhi              90\n",
              "Chennai            85\n",
              "Hyderabad          77\n",
              "Bangalore          65\n",
              "Chandigarh         61\n",
              "Jaipur             57\n",
              "Pune               51\n",
              "Abu Dhabi          37\n",
              "Ahmedabad          36\n",
              "Bengaluru          29\n",
              "Visakhapatnam      15\n",
              "Durban             15\n",
              "Lucknow            14\n",
              "Dubai              13\n",
              "Dharamsala         13\n",
              "Centurion          12\n",
              "Rajkot             10\n",
              "Sharjah            10\n",
              "Navi Mumbai         9\n",
              "Indore              9\n",
              "Johannesburg        8\n",
              "Ranchi              7\n",
              "Cuttack             7\n",
              "Cape Town           7\n",
              "Port Elizabeth      7\n",
              "Raipur              6\n",
              "Kochi               5\n",
              "Mohali              5\n",
              "Kanpur              4\n",
              "East London         3\n",
              "Kimberley           3\n",
              "Nagpur              3\n",
              "Guwahati            3\n",
              "Bloemfontein        2\n",
              "Name: count, dtype: int64"
            ],
            "text/html": [
              "<div>\n",
              "<style scoped>\n",
              "    .dataframe tbody tr th:only-of-type {\n",
              "        vertical-align: middle;\n",
              "    }\n",
              "\n",
              "    .dataframe tbody tr th {\n",
              "        vertical-align: top;\n",
              "    }\n",
              "\n",
              "    .dataframe thead th {\n",
              "        text-align: right;\n",
              "    }\n",
              "</style>\n",
              "<table border=\"1\" class=\"dataframe\">\n",
              "  <thead>\n",
              "    <tr style=\"text-align: right;\">\n",
              "      <th></th>\n",
              "      <th>count</th>\n",
              "    </tr>\n",
              "    <tr>\n",
              "      <th>city</th>\n",
              "      <th></th>\n",
              "    </tr>\n",
              "  </thead>\n",
              "  <tbody>\n",
              "    <tr>\n",
              "      <th>Mumbai</th>\n",
              "      <td>173</td>\n",
              "    </tr>\n",
              "    <tr>\n",
              "      <th>Kolkata</th>\n",
              "      <td>93</td>\n",
              "    </tr>\n",
              "    <tr>\n",
              "      <th>Delhi</th>\n",
              "      <td>90</td>\n",
              "    </tr>\n",
              "    <tr>\n",
              "      <th>Chennai</th>\n",
              "      <td>85</td>\n",
              "    </tr>\n",
              "    <tr>\n",
              "      <th>Hyderabad</th>\n",
              "      <td>77</td>\n",
              "    </tr>\n",
              "    <tr>\n",
              "      <th>Bangalore</th>\n",
              "      <td>65</td>\n",
              "    </tr>\n",
              "    <tr>\n",
              "      <th>Chandigarh</th>\n",
              "      <td>61</td>\n",
              "    </tr>\n",
              "    <tr>\n",
              "      <th>Jaipur</th>\n",
              "      <td>57</td>\n",
              "    </tr>\n",
              "    <tr>\n",
              "      <th>Pune</th>\n",
              "      <td>51</td>\n",
              "    </tr>\n",
              "    <tr>\n",
              "      <th>Abu Dhabi</th>\n",
              "      <td>37</td>\n",
              "    </tr>\n",
              "    <tr>\n",
              "      <th>Ahmedabad</th>\n",
              "      <td>36</td>\n",
              "    </tr>\n",
              "    <tr>\n",
              "      <th>Bengaluru</th>\n",
              "      <td>29</td>\n",
              "    </tr>\n",
              "    <tr>\n",
              "      <th>Visakhapatnam</th>\n",
              "      <td>15</td>\n",
              "    </tr>\n",
              "    <tr>\n",
              "      <th>Durban</th>\n",
              "      <td>15</td>\n",
              "    </tr>\n",
              "    <tr>\n",
              "      <th>Lucknow</th>\n",
              "      <td>14</td>\n",
              "    </tr>\n",
              "    <tr>\n",
              "      <th>Dubai</th>\n",
              "      <td>13</td>\n",
              "    </tr>\n",
              "    <tr>\n",
              "      <th>Dharamsala</th>\n",
              "      <td>13</td>\n",
              "    </tr>\n",
              "    <tr>\n",
              "      <th>Centurion</th>\n",
              "      <td>12</td>\n",
              "    </tr>\n",
              "    <tr>\n",
              "      <th>Rajkot</th>\n",
              "      <td>10</td>\n",
              "    </tr>\n",
              "    <tr>\n",
              "      <th>Sharjah</th>\n",
              "      <td>10</td>\n",
              "    </tr>\n",
              "    <tr>\n",
              "      <th>Navi Mumbai</th>\n",
              "      <td>9</td>\n",
              "    </tr>\n",
              "    <tr>\n",
              "      <th>Indore</th>\n",
              "      <td>9</td>\n",
              "    </tr>\n",
              "    <tr>\n",
              "      <th>Johannesburg</th>\n",
              "      <td>8</td>\n",
              "    </tr>\n",
              "    <tr>\n",
              "      <th>Ranchi</th>\n",
              "      <td>7</td>\n",
              "    </tr>\n",
              "    <tr>\n",
              "      <th>Cuttack</th>\n",
              "      <td>7</td>\n",
              "    </tr>\n",
              "    <tr>\n",
              "      <th>Cape Town</th>\n",
              "      <td>7</td>\n",
              "    </tr>\n",
              "    <tr>\n",
              "      <th>Port Elizabeth</th>\n",
              "      <td>7</td>\n",
              "    </tr>\n",
              "    <tr>\n",
              "      <th>Raipur</th>\n",
              "      <td>6</td>\n",
              "    </tr>\n",
              "    <tr>\n",
              "      <th>Kochi</th>\n",
              "      <td>5</td>\n",
              "    </tr>\n",
              "    <tr>\n",
              "      <th>Mohali</th>\n",
              "      <td>5</td>\n",
              "    </tr>\n",
              "    <tr>\n",
              "      <th>Kanpur</th>\n",
              "      <td>4</td>\n",
              "    </tr>\n",
              "    <tr>\n",
              "      <th>East London</th>\n",
              "      <td>3</td>\n",
              "    </tr>\n",
              "    <tr>\n",
              "      <th>Kimberley</th>\n",
              "      <td>3</td>\n",
              "    </tr>\n",
              "    <tr>\n",
              "      <th>Nagpur</th>\n",
              "      <td>3</td>\n",
              "    </tr>\n",
              "    <tr>\n",
              "      <th>Guwahati</th>\n",
              "      <td>3</td>\n",
              "    </tr>\n",
              "    <tr>\n",
              "      <th>Bloemfontein</th>\n",
              "      <td>2</td>\n",
              "    </tr>\n",
              "  </tbody>\n",
              "</table>\n",
              "</div><br><label><b>dtype:</b> int64</label>"
            ]
          },
          "metadata": {},
          "execution_count": 35
        }
      ]
    },
    {
      "cell_type": "code",
      "source": [
        "# The average target score across all matches\n",
        "Avg_target_score = df1['target_runs'].mean()\n",
        "print('Average target score across all macthes:',round(Avg_target_score))"
      ],
      "metadata": {
        "colab": {
          "base_uri": "https://localhost:8080/"
        },
        "id": "ABgIPTwdVZ8c",
        "outputId": "96212903-b633-440e-86ef-7ecedfea0f32"
      },
      "execution_count": 36,
      "outputs": [
        {
          "output_type": "stream",
          "name": "stdout",
          "text": [
            "Average target score across all macthes: 166\n"
          ]
        }
      ]
    },
    {
      "cell_type": "code",
      "source": [
        "# Matches won by each team\n",
        "matches_won_each_team = df1.groupby(['team1']).agg({'winner':['count']})\n",
        "print(matches_won_each_team)"
      ],
      "metadata": {
        "id": "hUQiw6KNY6ZC",
        "colab": {
          "base_uri": "https://localhost:8080/"
        },
        "outputId": "827941f0-2f13-4708-bb93-78591191bc89"
      },
      "execution_count": 37,
      "outputs": [
        {
          "output_type": "stream",
          "name": "stdout",
          "text": [
            "                            winner\n",
            "                             count\n",
            "team1                             \n",
            "Chennai Super Kings            128\n",
            "Deccan Chargers                 39\n",
            "Delhi Capitals                  41\n",
            "Delhi Daredevils                84\n",
            "Gujarat Lions                   16\n",
            "Gujarat Titans                  21\n",
            "Kings XI Punjab                 92\n",
            "Kochi Tuskers Kerala             7\n",
            "Kolkata Knight Riders          121\n",
            "Lucknow Super Giants            22\n",
            "Mumbai Indians                 123\n",
            "Pune Warriors                   23\n",
            "Punjab Kings                    31\n",
            "Rajasthan Royals               101\n",
            "Rising Pune Supergiant           7\n",
            "Rising Pune Supergiants          7\n",
            "Royal Challengers Bangalore    132\n",
            "Royal Challengers Bengaluru      9\n",
            "Sunrisers Hyderabad             86\n"
          ]
        }
      ]
    },
    {
      "cell_type": "code",
      "source": [
        "#player who won the most \"Player of the Match\" awards\n",
        "player_of_the_match = df1['player_of_match'].value_counts().head(1)\n",
        "print(player_of_the_match)"
      ],
      "metadata": {
        "id": "bRNHk0zAY6WS",
        "colab": {
          "base_uri": "https://localhost:8080/"
        },
        "outputId": "eea28fae-21aa-471e-c9d8-9a43d0537e16"
      },
      "execution_count": 38,
      "outputs": [
        {
          "output_type": "stream",
          "name": "stdout",
          "text": [
            "player_of_match\n",
            "AB de Villiers    25\n",
            "Name: count, dtype: int64\n"
          ]
        }
      ]
    },
    {
      "cell_type": "code",
      "source": [
        "# Venue hosted the most matches\n",
        "venue_hosted_most_matches = df1['venue'].value_counts().head(1)\n",
        "print(venue_hosted_most_matches)"
      ],
      "metadata": {
        "id": "MW3CgSjrY6Tv",
        "colab": {
          "base_uri": "https://localhost:8080/"
        },
        "outputId": "d55d9fbe-58a8-43c9-98c1-ebf975a79d99"
      },
      "execution_count": 39,
      "outputs": [
        {
          "output_type": "stream",
          "name": "stdout",
          "text": [
            "venue\n",
            "Wankhede Stadium    118\n",
            "Name: count, dtype: int64\n"
          ]
        }
      ]
    },
    {
      "cell_type": "markdown",
      "source": [
        "# Statistics & **Aggregation**"
      ],
      "metadata": {
        "id": "7-7Ly_PnukV6"
      }
    },
    {
      "cell_type": "code",
      "source": [
        "# The mean, median, and standard deviation of result_margin for matches won by runs\n",
        "result_margin_runs = df1[df1['result'] == 'runs']['result_margin']\n",
        "print('Mean of result_margin:',round(result_margin_runs.mean()))\n",
        "print('Median of result_margin::',result_margin_runs.median())\n",
        "print('Standard deviation of result_margin:',round(result_margin_runs.std()))"
      ],
      "metadata": {
        "id": "xg9KW-BAY6RH",
        "colab": {
          "base_uri": "https://localhost:8080/"
        },
        "outputId": "a403e2ba-c6c1-4c6c-b7f1-14ce4a215f97"
      },
      "execution_count": 40,
      "outputs": [
        {
          "output_type": "stream",
          "name": "stdout",
          "text": [
            "Mean of result_margin: 30\n",
            "Median of result_margin:: 22.0\n",
            "Standard deviation of result_margin: 27\n"
          ]
        }
      ]
    },
    {
      "cell_type": "code",
      "source": [
        "df1.info()\n"
      ],
      "metadata": {
        "colab": {
          "base_uri": "https://localhost:8080/"
        },
        "id": "Z42yW-K7grRp",
        "outputId": "1f1907aa-6ece-42dd-8058-848fa592acc7"
      },
      "execution_count": 41,
      "outputs": [
        {
          "output_type": "stream",
          "name": "stdout",
          "text": [
            "<class 'pandas.core.frame.DataFrame'>\n",
            "RangeIndex: 1095 entries, 0 to 1094\n",
            "Data columns (total 22 columns):\n",
            " #   Column           Non-Null Count  Dtype  \n",
            "---  ------           --------------  -----  \n",
            " 0   id               1095 non-null   int64  \n",
            " 1   season           1095 non-null   int64  \n",
            " 2   city             1044 non-null   object \n",
            " 3   date             1095 non-null   object \n",
            " 4   match_type       1095 non-null   object \n",
            " 5   player_of_match  1090 non-null   object \n",
            " 6   venue            1095 non-null   object \n",
            " 7   Unnamed: 7       415 non-null    object \n",
            " 8   Unnamed: 8       46 non-null     object \n",
            " 9   team1            1095 non-null   object \n",
            " 10  team2            1095 non-null   object \n",
            " 11  toss_winner      1095 non-null   object \n",
            " 12  toss_decision    1095 non-null   object \n",
            " 13  winner           1090 non-null   object \n",
            " 14  result           1095 non-null   object \n",
            " 15  result_margin    1076 non-null   float64\n",
            " 16  target_runs      1092 non-null   float64\n",
            " 17  target_overs     1092 non-null   float64\n",
            " 18  super_over       1095 non-null   object \n",
            " 19  method           21 non-null     object \n",
            " 20  umpire1          1095 non-null   object \n",
            " 21  umpire2          1095 non-null   object \n",
            "dtypes: float64(3), int64(2), object(17)\n",
            "memory usage: 188.3+ KB\n"
          ]
        }
      ]
    },
    {
      "cell_type": "code",
      "source": [
        "# The correlation between target_runs and result_margin (for matches won by runs only)\n",
        "correlation = df1['target_runs'].corr(df1['result_margin'])\n",
        "print(f\"Correlation = {correlation:.2f}\")"
      ],
      "metadata": {
        "id": "OGaR4VQfY6Od",
        "colab": {
          "base_uri": "https://localhost:8080/"
        },
        "outputId": "39db7bb2-3265-4f5f-f230-1848221d20c5"
      },
      "execution_count": 42,
      "outputs": [
        {
          "output_type": "stream",
          "name": "stdout",
          "text": [
            "Correlation = 0.40\n"
          ]
        }
      ]
    },
    {
      "cell_type": "code",
      "source": [
        "# Calculate the win percentage of each team.\n",
        "win_percentage = (df1['winner'].value_counts() / len(df1)) * 100\n",
        "print(win_percentage.map(\"{:,.2f}\".format))"
      ],
      "metadata": {
        "colab": {
          "base_uri": "https://localhost:8080/"
        },
        "id": "5o2MeuuOkTIA",
        "outputId": "bb2e4845-d256-45e0-db87-d89dd898624f"
      },
      "execution_count": 43,
      "outputs": [
        {
          "output_type": "stream",
          "name": "stdout",
          "text": [
            "winner\n",
            "Mumbai Indians                 13.15\n",
            "Chennai Super Kings            12.60\n",
            "Kolkata Knight Riders          11.96\n",
            "Royal Challengers Bangalore    10.59\n",
            "Rajasthan Royals               10.23\n",
            "Sunrisers Hyderabad             8.04\n",
            "Kings XI Punjab                 8.04\n",
            "Delhi Daredevils                6.12\n",
            "Delhi Capitals                  4.38\n",
            "Deccan Chargers                 2.65\n",
            "Gujarat Titans                  2.56\n",
            "Punjab Kings                    2.19\n",
            "Lucknow Super Giants            2.19\n",
            "Gujarat Lions                   1.19\n",
            "Pune Warriors                   1.10\n",
            "Rising Pune Supergiant          0.91\n",
            "Royal Challengers Bengaluru     0.64\n",
            "Kochi Tuskers Kerala            0.55\n",
            "Rising Pune Supergiants         0.46\n",
            "Name: count, dtype: object\n"
          ]
        }
      ]
    },
    {
      "cell_type": "code",
      "source": [
        "# Distribution of matches won by wickets vs. by runs\n",
        "distribution_of_matches = df1['result'].value_counts()\n",
        "print(distribution_of_matches)"
      ],
      "metadata": {
        "colab": {
          "base_uri": "https://localhost:8080/"
        },
        "id": "ng-eHesYkTFH",
        "outputId": "85245bf3-c16b-4b0b-9810-149723b44ec9"
      },
      "execution_count": 44,
      "outputs": [
        {
          "output_type": "stream",
          "name": "stdout",
          "text": [
            "result\n",
            "wickets      578\n",
            "runs         498\n",
            "tie           14\n",
            "no result      5\n",
            "Name: count, dtype: int64\n"
          ]
        }
      ]
    },
    {
      "cell_type": "code",
      "source": [
        "#Barplot\n",
        "distribution_of_matches.plot(kind='bar', color=['blue', 'skyblue','cyan'])\n",
        "plt.title('Distribution of Matches Won by Runs vs Wickets')\n",
        "plt.xlabel('Result Type')\n",
        "plt.ylabel('Number of Matches')\n",
        "plt.xticks(rotation=0)\n",
        "plt.show()"
      ],
      "metadata": {
        "colab": {
          "base_uri": "https://localhost:8080/",
          "height": 472
        },
        "id": "umMggc8RkTCc",
        "outputId": "75d64f9c-b143-4865-84e7-92dc4791ce52"
      },
      "execution_count": 45,
      "outputs": [
        {
          "output_type": "display_data",
          "data": {
            "text/plain": [
              "<Figure size 640x480 with 1 Axes>"
            ],
            "image/png": "[encoded data removed]"
          },
          "metadata": {}
        }
      ]
    },
    {
      "cell_type": "code",
      "source": [
        "# Finding significant difference in the average target score when the toss decision is \"bat\" vs \"field\"\n",
        "%pip install scipy\n",
        "from scipy import stats\n",
        "\n",
        "target_by_toss = df1.groupby('toss_decision')['target_runs'].mean().reset_index()\n",
        "print(round(target_by_toss))\n",
        "\n",
        "toss_decision_bat = df1[df1['toss_decision'] == 'bat']['target_runs'].dropna()\n",
        "toss_decision_field = df1[df1['toss_decision'] == 'field']['target_runs'].dropna()\n",
        "t_stat, p_value = stats.ttest_ind(toss_decision_bat, toss_decision_field)\n",
        "print(f\"T-statistic: {t_stat:.2f}\")\n",
        "print(f\"P-value: {p_value:.2f}\")"
      ],
      "metadata": {
        "id": "_pawo9SBkS_9",
        "colab": {
          "base_uri": "https://localhost:8080/"
        },
        "outputId": "fb86cc5d-5a07-4be2-e0ae-1d111a22ec1f"
      },
      "execution_count": 52,
      "outputs": [
        {
          "output_type": "stream",
          "name": "stdout",
          "text": [
            "Requirement already satisfied: scipy in /usr/local/lib/python3.11/dist-packages (1.14.1)\n",
            "Requirement already satisfied: numpy<2.3,>=1.23.5 in /usr/local/lib/python3.11/dist-packages (from scipy) (2.0.2)\n",
            "  toss_decision  target_runs\n",
            "0           bat        161.0\n",
            "1         field        168.0\n",
            "T-statistic: -3.73\n",
            "P-value: 0.00\n"
          ]
        }
      ]
    },
    {
      "cell_type": "markdown",
      "source": [
        "# Filtering & **Grouping**"
      ],
      "metadata": {
        "id": "2Xm3nWUaut1a"
      }
    },
    {
      "cell_type": "code",
      "source": [
        "# Number of matches went into a super over\n",
        "super_over = df1[df1['super_over'] == 'Y']\n",
        "print(\"Number of matches went into super over:\",len(super_over))"
      ],
      "metadata": {
        "id": "IMv6sY0SkS9i",
        "colab": {
          "base_uri": "https://localhost:8080/"
        },
        "outputId": "e5e1181b-b8a2-4105-decd-72648d670729"
      },
      "execution_count": 55,
      "outputs": [
        {
          "output_type": "stream",
          "name": "stdout",
          "text": [
            "Number of matches went into super over: 14\n"
          ]
        }
      ]
    },
    {
      "cell_type": "code",
      "source": [
        "#Which umpires have officiated the most matches together (umpire1 & umpire2 pair)?\n",
        "umpires = df1.groupby(['umpire1', 'umpire2']).size().reset_index(name='count').sort_values(by='count', ascending=False).head(8)\n",
        "print(umpires)"
      ],
      "metadata": {
        "colab": {
          "base_uri": "https://localhost:8080/"
        },
        "id": "HLBngl_BweEL",
        "outputId": "f877d08f-3355-4b3a-868f-3692c8b0a69d"
      },
      "execution_count": 68,
      "outputs": [
        {
          "output_type": "stream",
          "name": "stdout",
          "text": [
            "             umpire1        umpire2  count\n",
            "398           S Ravi      RJ Tucker     12\n",
            "40      AK Chaudhary    Nitin Menon     11\n",
            "93         Asad Rauf       S Asnani     11\n",
            "206  HDPK Dharmasena      CK Nandan     11\n",
            "27      AK Chaudhary    CB Gaffaney     10\n",
            "39      AK Chaudhary       NJ Llong     10\n",
            "119     BNJ Oxenford  C Shamshuddin      9\n",
            "395           S Ravi  C Shamshuddin      9\n"
          ]
        }
      ]
    },
    {
      "cell_type": "code",
      "source": [
        "# The match with the highest result margin (by runs or wickets).\n",
        "highest_result_margin = df1.loc[df1['result_margin'].idxmax()]\n",
        "print(highest_result_margin)"
      ],
      "metadata": {
        "colab": {
          "base_uri": "https://localhost:8080/"
        },
        "id": "fBiZJbWIweBO",
        "outputId": "442c4d3c-dc45-426b-c123-05f64de8999d"
      },
      "execution_count": 72,
      "outputs": [
        {
          "output_type": "stream",
          "name": "stdout",
          "text": [
            "id                          1082635\n",
            "season                         2017\n",
            "city                          Delhi\n",
            "date                     05/06/2017\n",
            "match_type                   League\n",
            "player_of_match         LMP Simmons\n",
            "venue              Feroz Shah Kotla\n",
            "Unnamed: 7                      NaN\n",
            "Unnamed: 8                      NaN\n",
            "team1              Delhi Daredevils\n",
            "team2                Mumbai Indians\n",
            "toss_winner        Delhi Daredevils\n",
            "toss_decision                 field\n",
            "winner               Mumbai Indians\n",
            "result                         runs\n",
            "result_margin                 146.0\n",
            "target_runs                   213.0\n",
            "target_overs                   20.0\n",
            "super_over                        N\n",
            "method                          NaN\n",
            "umpire1                 Nitin Menon\n",
            "umpire2                   CK Nandan\n",
            "Name: 620, dtype: object\n"
          ]
        }
      ]
    },
    {
      "cell_type": "code",
      "source": [
        "# Which toss decision (bat/field) led to more wins?\n",
        "toss_decision_wins = df1.groupby('toss_decision')['winner'].value_counts()\n",
        "print(toss_decision_wins)"
      ],
      "metadata": {
        "colab": {
          "base_uri": "https://localhost:8080/"
        },
        "id": "ImVrVDZ-wd-E",
        "outputId": "0a22f73f-f69e-442a-fa77-fdd5591caddb"
      },
      "execution_count": 75,
      "outputs": [
        {
          "output_type": "stream",
          "name": "stdout",
          "text": [
            "toss_decision  winner                     \n",
            "bat            Chennai Super Kings            63\n",
            "               Mumbai Indians                 54\n",
            "               Kolkata Knight Riders          50\n",
            "               Rajasthan Royals               43\n",
            "               Royal Challengers Bangalore    37\n",
            "               Sunrisers Hyderabad            30\n",
            "               Delhi Daredevils               29\n",
            "               Kings XI Punjab                24\n",
            "               Deccan Chargers                14\n",
            "               Delhi Capitals                 13\n",
            "               Gujarat Titans                  9\n",
            "               Pune Warriors                   9\n",
            "               Lucknow Super Giants            6\n",
            "               Punjab Kings                    4\n",
            "               Gujarat Lions                   2\n",
            "               Rising Pune Supergiants         2\n",
            "               Royal Challengers Bengaluru     1\n",
            "field          Mumbai Indians                 90\n",
            "               Kolkata Knight Riders          81\n",
            "               Royal Challengers Bangalore    79\n",
            "               Chennai Super Kings            75\n",
            "               Rajasthan Royals               69\n",
            "               Kings XI Punjab                64\n",
            "               Sunrisers Hyderabad            58\n",
            "               Delhi Daredevils               38\n",
            "               Delhi Capitals                 35\n",
            "               Punjab Kings                   20\n",
            "               Gujarat Titans                 19\n",
            "               Lucknow Super Giants           18\n",
            "               Deccan Chargers                15\n",
            "               Gujarat Lions                  11\n",
            "               Rising Pune Supergiant         10\n",
            "               Kochi Tuskers Kerala            6\n",
            "               Royal Challengers Bengaluru     6\n",
            "               Pune Warriors                   3\n",
            "               Rising Pune Supergiants         3\n",
            "Name: count, dtype: int64\n"
          ]
        }
      ]
    },
    {
      "cell_type": "code",
      "source": [
        "# Teams have the highest win ratio when winning the toss\n",
        "toss_winner_wins = df1.groupby('toss_winner')['winner'].size().sort_values( ascending=False)\n",
        "print(toss_winner_wins)"
      ],
      "metadata": {
        "colab": {
          "base_uri": "https://localhost:8080/"
        },
        "id": "-LWuCpkfwd7B",
        "outputId": "9bd1c761-424b-4e9e-f824-51e72673dc82"
      },
      "execution_count": 88,
      "outputs": [
        {
          "output_type": "stream",
          "name": "stdout",
          "text": [
            "toss_winner\n",
            "Mumbai Indians                 143\n",
            "Kolkata Knight Riders          122\n",
            "Chennai Super Kings            122\n",
            "Rajasthan Royals               120\n",
            "Royal Challengers Bangalore    113\n",
            "Sunrisers Hyderabad             88\n",
            "Kings XI Punjab                 85\n",
            "Delhi Daredevils                80\n",
            "Delhi Capitals                  50\n",
            "Deccan Chargers                 43\n",
            "Punjab Kings                    24\n",
            "Gujarat Titans                  22\n",
            "Pune Warriors                   20\n",
            "Lucknow Super Giants            19\n",
            "Gujarat Lions                   15\n",
            "Kochi Tuskers Kerala             8\n",
            "Royal Challengers Bengaluru      8\n",
            "Rising Pune Supergiants          7\n",
            "Rising Pune Supergiant           6\n",
            "Name: winner, dtype: int64\n"
          ]
        }
      ]
    }
  ]
}