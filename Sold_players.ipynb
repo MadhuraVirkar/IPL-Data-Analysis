{
  "nbformat": 4,
  "nbformat_minor": 0,
  "metadata": {
    "colab": {
      "provenance": []
    },
    "kernelspec": {
      "name": "python3",
      "display_name": "Python 3"
    },
    "language_info": {
      "name": "python"
    }
  },
  "cells": [
    {
      "cell_type": "code",
      "execution_count": 137,
      "metadata": {
        "id": "zG-UfTZ4eE68"
      },
      "outputs": [],
      "source": [
        "import numpy as np\n",
        "import pandas as pd\n",
        "import matplotlib as plt\n",
        "import matplotlib.pyplot as plt\n",
        "import seaborn as sns\n",
        "import missingno as msno\n",
        "from sklearn import preprocessing\n",
        "import matplotlib.pyplot as plt"
      ]
    },
    {
      "cell_type": "code",
      "source": [
        "df = pd.read_csv(\"IPL 2024 SOLD PLAYER DATA ANALYSIS.csv\",low_memory=False)"
      ],
      "metadata": {
        "id": "1qJT2fHOeiqu"
      },
      "execution_count": 138,
      "outputs": []
    },
    {
      "cell_type": "code",
      "source": [
        "df.head()"
      ],
      "metadata": {
        "colab": {
          "base_uri": "https://localhost:8080/",
          "height": 206
        },
        "id": "cD-OwY2bein-",
        "outputId": "1bed2e6d-a838-40e6-e2f8-1190032032cf"
      },
      "execution_count": 139,
      "outputs": [
        {
          "output_type": "execute_result",
          "data": {
            "text/plain": [
              "   S_No               PLAYERS NATIONALITY           TYPE      PRICE TEAM\n",
              "0     0  Avanish Rao Aravelly      Indian  Wicket-Keeper    2000000  CSK\n",
              "1     1     Mustafizur Rahman    Overseas         Bowler   20000000  CSK\n",
              "2     2        Daryl Mitchell    Overseas    All-Rounder  140000000  CSK\n",
              "3     3          Sameer Rizvi      Indian         Batter   84000000  CSK\n",
              "4     4       Rachin Ravindra    Overseas    All-Rounder   18000000  CSK"
            ],
            "text/html": [
              "\n",
              "  <div id=\"df-bd7274bd-7bcc-47ac-8ac9-53e1520bd9b9\" class=\"colab-df-container\">\n",
              "    <div>\n",
              "<style scoped>\n",
              "    .dataframe tbody tr th:only-of-type {\n",
              "        vertical-align: middle;\n",
              "    }\n",
              "\n",
              "    .dataframe tbody tr th {\n",
              "        vertical-align: top;\n",
              "    }\n",
              "\n",
              "    .dataframe thead th {\n",
              "        text-align: right;\n",
              "    }\n",
              "</style>\n",
              "<table border=\"1\" class=\"dataframe\">\n",
              "  <thead>\n",
              "    <tr style=\"text-align: right;\">\n",
              "      <th></th>\n",
              "      <th>S_No</th>\n",
              "      <th>PLAYERS</th>\n",
              "      <th>NATIONALITY</th>\n",
              "      <th>TYPE</th>\n",
              "      <th>PRICE</th>\n",
              "      <th>TEAM</th>\n",
              "    </tr>\n",
              "  </thead>\n",
              "  <tbody>\n",
              "    <tr>\n",
              "      <th>0</th>\n",
              "      <td>0</td>\n",
              "      <td>Avanish Rao Aravelly</td>\n",
              "      <td>Indian</td>\n",
              "      <td>Wicket-Keeper</td>\n",
              "      <td>2000000</td>\n",
              "      <td>CSK</td>\n",
              "    </tr>\n",
              "    <tr>\n",
              "      <th>1</th>\n",
              "      <td>1</td>\n",
              "      <td>Mustafizur Rahman</td>\n",
              "      <td>Overseas</td>\n",
              "      <td>Bowler</td>\n",
              "      <td>20000000</td>\n",
              "      <td>CSK</td>\n",
              "    </tr>\n",
              "    <tr>\n",
              "      <th>2</th>\n",
              "      <td>2</td>\n",
              "      <td>Daryl Mitchell</td>\n",
              "      <td>Overseas</td>\n",
              "      <td>All-Rounder</td>\n",
              "      <td>140000000</td>\n",
              "      <td>CSK</td>\n",
              "    </tr>\n",
              "    <tr>\n",
              "      <th>3</th>\n",
              "      <td>3</td>\n",
              "      <td>Sameer Rizvi</td>\n",
              "      <td>Indian</td>\n",
              "      <td>Batter</td>\n",
              "      <td>84000000</td>\n",
              "      <td>CSK</td>\n",
              "    </tr>\n",
              "    <tr>\n",
              "      <th>4</th>\n",
              "      <td>4</td>\n",
              "      <td>Rachin Ravindra</td>\n",
              "      <td>Overseas</td>\n",
              "      <td>All-Rounder</td>\n",
              "      <td>18000000</td>\n",
              "      <td>CSK</td>\n",
              "    </tr>\n",
              "  </tbody>\n",
              "</table>\n",
              "</div>\n",
              "    <div class=\"colab-df-buttons\">\n",
              "\n",
              "  <div class=\"colab-df-container\">\n",
              "    <button class=\"colab-df-convert\" onclick=\"convertToInteractive('df-bd7274bd-7bcc-47ac-8ac9-53e1520bd9b9')\"\n",
              "            title=\"Convert this dataframe to an interactive table.\"\n",
              "            style=\"display:none;\">\n",
              "\n",
              "  <svg xmlns=\"http://www.w3.org/2000/svg\" height=\"24px\" viewBox=\"0 -960 960 960\">\n",
              "    <path d=\"M120-120v-720h720v720H120Zm60-500h600v-160H180v160Zm220 220h160v-160H400v160Zm0 220h160v-160H400v160ZM180-400h160v-160H180v160Zm440 0h160v-160H620v160ZM180-180h160v-160H180v160Zm440 0h160v-160H620v160Z\"/>\n",
              "  </svg>\n",
              "    </button>\n",
              "\n",
              "  <style>\n",
              "    .colab-df-container {\n",
              "      display:flex;\n",
              "      gap: 12px;\n",
              "    }\n",
              "\n",
              "    .colab-df-convert {\n",
              "      background-color: #E8F0FE;\n",
              "      border: none;\n",
              "      border-radius: 50%;\n",
              "      cursor: pointer;\n",
              "      display: none;\n",
              "      fill: #1967D2;\n",
              "      height: 32px;\n",
              "      padding: 0 0 0 0;\n",
              "      width: 32px;\n",
              "    }\n",
              "\n",
              "    .colab-df-convert:hover {\n",
              "      background-color: #E2EBFA;\n",
              "      box-shadow: 0px 1px 2px rgba(60, 64, 67, 0.3), 0px 1px 3px 1px rgba(60, 64, 67, 0.15);\n",
              "      fill: #174EA6;\n",
              "    }\n",
              "\n",
              "    .colab-df-buttons div {\n",
              "      margin-bottom: 4px;\n",
              "    }\n",
              "\n",
              "    [theme=dark] .colab-df-convert {\n",
              "      background-color: #3B4455;\n",
              "      fill: #D2E3FC;\n",
              "    }\n",
              "\n",
              "    [theme=dark] .colab-df-convert:hover {\n",
              "      background-color: #434B5C;\n",
              "      box-shadow: 0px 1px 3px 1px rgba(0, 0, 0, 0.15);\n",
              "      filter: drop-shadow(0px 1px 2px rgba(0, 0, 0, 0.3));\n",
              "      fill: #FFFFFF;\n",
              "    }\n",
              "  </style>\n",
              "\n",
              "    <script>\n",
              "      const buttonEl =\n",
              "        document.querySelector('#df-bd7274bd-7bcc-47ac-8ac9-53e1520bd9b9 button.colab-df-convert');\n",
              "      buttonEl.style.display =\n",
              "        google.colab.kernel.accessAllowed ? 'block' : 'none';\n",
              "\n",
              "      async function convertToInteractive(key) {\n",
              "        const element = document.querySelector('#df-bd7274bd-7bcc-47ac-8ac9-53e1520bd9b9');\n",
              "        const dataTable =\n",
              "          await google.colab.kernel.invokeFunction('convertToInteractive',\n",
              "                                                    [key], {});\n",
              "        if (!dataTable) return;\n",
              "\n",
              "        const docLinkHtml = 'Like what you see? Visit the ' +\n",
              "          '<a target=\"_blank\" href=https://colab.research.google.com/notebooks/data_table.ipynb>data table notebook</a>'\n",
              "          + ' to learn more about interactive tables.';\n",
              "        element.innerHTML = '';\n",
              "        dataTable['output_type'] = 'display_data';\n",
              "        await google.colab.output.renderOutput(dataTable, element);\n",
              "        const docLink = document.createElement('div');\n",
              "        docLink.innerHTML = docLinkHtml;\n",
              "        element.appendChild(docLink);\n",
              "      }\n",
              "    </script>\n",
              "  </div>\n",
              "\n",
              "\n",
              "<div id=\"df-8ae0966a-348f-4579-b33f-e83cefd6d0fe\">\n",
              "  <button class=\"colab-df-quickchart\" onclick=\"quickchart('df-8ae0966a-348f-4579-b33f-e83cefd6d0fe')\"\n",
              "            title=\"Suggest charts\"\n",
              "            style=\"display:none;\">\n",
              "\n",
              "<svg xmlns=\"http://www.w3.org/2000/svg\" height=\"24px\"viewBox=\"0 0 24 24\"\n",
              "     width=\"24px\">\n",
              "    <g>\n",
              "        <path d=\"M19 3H5c-1.1 0-2 .9-2 2v14c0 1.1.9 2 2 2h14c1.1 0 2-.9 2-2V5c0-1.1-.9-2-2-2zM9 17H7v-7h2v7zm4 0h-2V7h2v10zm4 0h-2v-4h2v4z\"/>\n",
              "    </g>\n",
              "</svg>\n",
              "  </button>\n",
              "\n",
              "<style>\n",
              "  .colab-df-quickchart {\n",
              "      --bg-color: #E8F0FE;\n",
              "      --fill-color: #1967D2;\n",
              "      --hover-bg-color: #E2EBFA;\n",
              "      --hover-fill-color: #174EA6;\n",
              "      --disabled-fill-color: #AAA;\n",
              "      --disabled-bg-color: #DDD;\n",
              "  }\n",
              "\n",
              "  [theme=dark] .colab-df-quickchart {\n",
              "      --bg-color: #3B4455;\n",
              "      --fill-color: #D2E3FC;\n",
              "      --hover-bg-color: #434B5C;\n",
              "      --hover-fill-color: #FFFFFF;\n",
              "      --disabled-bg-color: #3B4455;\n",
              "      --disabled-fill-color: #666;\n",
              "  }\n",
              "\n",
              "  .colab-df-quickchart {\n",
              "    background-color: var(--bg-color);\n",
              "    border: none;\n",
              "    border-radius: 50%;\n",
              "    cursor: pointer;\n",
              "    display: none;\n",
              "    fill: var(--fill-color);\n",
              "    height: 32px;\n",
              "    padding: 0;\n",
              "    width: 32px;\n",
              "  }\n",
              "\n",
              "  .colab-df-quickchart:hover {\n",
              "    background-color: var(--hover-bg-color);\n",
              "    box-shadow: 0 1px 2px rgba(60, 64, 67, 0.3), 0 1px 3px 1px rgba(60, 64, 67, 0.15);\n",
              "    fill: var(--button-hover-fill-color);\n",
              "  }\n",
              "\n",
              "  .colab-df-quickchart-complete:disabled,\n",
              "  .colab-df-quickchart-complete:disabled:hover {\n",
              "    background-color: var(--disabled-bg-color);\n",
              "    fill: var(--disabled-fill-color);\n",
              "    box-shadow: none;\n",
              "  }\n",
              "\n",
              "  .colab-df-spinner {\n",
              "    border: 2px solid var(--fill-color);\n",
              "    border-color: transparent;\n",
              "    border-bottom-color: var(--fill-color);\n",
              "    animation:\n",
              "      spin 1s steps(1) infinite;\n",
              "  }\n",
              "\n",
              "  @keyframes spin {\n",
              "    0% {\n",
              "      border-color: transparent;\n",
              "      border-bottom-color: var(--fill-color);\n",
              "      border-left-color: var(--fill-color);\n",
              "    }\n",
              "    20% {\n",
              "      border-color: transparent;\n",
              "      border-left-color: var(--fill-color);\n",
              "      border-top-color: var(--fill-color);\n",
              "    }\n",
              "    30% {\n",
              "      border-color: transparent;\n",
              "      border-left-color: var(--fill-color);\n",
              "      border-top-color: var(--fill-color);\n",
              "      border-right-color: var(--fill-color);\n",
              "    }\n",
              "    40% {\n",
              "      border-color: transparent;\n",
              "      border-right-color: var(--fill-color);\n",
              "      border-top-color: var(--fill-color);\n",
              "    }\n",
              "    60% {\n",
              "      border-color: transparent;\n",
              "      border-right-color: var(--fill-color);\n",
              "    }\n",
              "    80% {\n",
              "      border-color: transparent;\n",
              "      border-right-color: var(--fill-color);\n",
              "      border-bottom-color: var(--fill-color);\n",
              "    }\n",
              "    90% {\n",
              "      border-color: transparent;\n",
              "      border-bottom-color: var(--fill-color);\n",
              "    }\n",
              "  }\n",
              "</style>\n",
              "\n",
              "  <script>\n",
              "    async function quickchart(key) {\n",
              "      const quickchartButtonEl =\n",
              "        document.querySelector('#' + key + ' button');\n",
              "      quickchartButtonEl.disabled = true;  // To prevent multiple clicks.\n",
              "      quickchartButtonEl.classList.add('colab-df-spinner');\n",
              "      try {\n",
              "        const charts = await google.colab.kernel.invokeFunction(\n",
              "            'suggestCharts', [key], {});\n",
              "      } catch (error) {\n",
              "        console.error('Error during call to suggestCharts:', error);\n",
              "      }\n",
              "      quickchartButtonEl.classList.remove('colab-df-spinner');\n",
              "      quickchartButtonEl.classList.add('colab-df-quickchart-complete');\n",
              "    }\n",
              "    (() => {\n",
              "      let quickchartButtonEl =\n",
              "        document.querySelector('#df-8ae0966a-348f-4579-b33f-e83cefd6d0fe button');\n",
              "      quickchartButtonEl.style.display =\n",
              "        google.colab.kernel.accessAllowed ? 'block' : 'none';\n",
              "    })();\n",
              "  </script>\n",
              "</div>\n",
              "\n",
              "    </div>\n",
              "  </div>\n"
            ],
            "application/vnd.google.colaboratory.intrinsic+json": {
              "type": "dataframe",
              "variable_name": "df",
              "summary": "{\n  \"name\": \"df\",\n  \"rows\": 332,\n  \"fields\": [\n    {\n      \"column\": \"S_No\",\n      \"properties\": {\n        \"dtype\": \"number\",\n        \"std\": 77,\n        \"min\": 0,\n        \"max\": 259,\n        \"num_unique_values\": 260,\n        \"samples\": [\n          30,\n          181,\n          223\n        ],\n        \"semantic_type\": \"\",\n        \"description\": \"\"\n      }\n    },\n    {\n      \"column\": \"PLAYERS\",\n      \"properties\": {\n        \"dtype\": \"string\",\n        \"num_unique_values\": 331,\n        \"samples\": [\n          \"Gus Atkinson\",\n          \"Varun Aaron\",\n          \"Rohan Kunnummal\"\n        ],\n        \"semantic_type\": \"\",\n        \"description\": \"\"\n      }\n    },\n    {\n      \"column\": \"NATIONALITY\",\n      \"properties\": {\n        \"dtype\": \"category\",\n        \"num_unique_values\": 2,\n        \"samples\": [\n          \"Overseas\",\n          \"Indian\"\n        ],\n        \"semantic_type\": \"\",\n        \"description\": \"\"\n      }\n    },\n    {\n      \"column\": \"TYPE\",\n      \"properties\": {\n        \"dtype\": \"category\",\n        \"num_unique_values\": 4,\n        \"samples\": [\n          \"Bowler\",\n          \"Batter\"\n        ],\n        \"semantic_type\": \"\",\n        \"description\": \"\"\n      }\n    },\n    {\n      \"column\": \"PRICE\",\n      \"properties\": {\n        \"dtype\": \"number\",\n        \"std\": 24750544,\n        \"min\": 2000000,\n        \"max\": 247500000,\n        \"num_unique_values\": 32,\n        \"samples\": [\n          205000000,\n          74000000\n        ],\n        \"semantic_type\": \"\",\n        \"description\": \"\"\n      }\n    },\n    {\n      \"column\": \"TEAM\",\n      \"properties\": {\n        \"dtype\": \"category\",\n        \"num_unique_values\": 11,\n        \"samples\": [\n          \"MI\",\n          \"CSK\"\n        ],\n        \"semantic_type\": \"\",\n        \"description\": \"\"\n      }\n    }\n  ]\n}"
            }
          },
          "metadata": {},
          "execution_count": 139
        }
      ]
    },
    {
      "cell_type": "markdown",
      "source": [
        "# **Basic Data Exploration**"
      ],
      "metadata": {
        "id": "QxG6tlBSuVmu"
      }
    },
    {
      "cell_type": "code",
      "source": [
        "df.shape"
      ],
      "metadata": {
        "colab": {
          "base_uri": "https://localhost:8080/"
        },
        "id": "WWOizn5GeilM",
        "outputId": "0916c119-a140-4ad6-ed49-bd90fa9fd72a"
      },
      "execution_count": 140,
      "outputs": [
        {
          "output_type": "execute_result",
          "data": {
            "text/plain": [
              "(332, 6)"
            ]
          },
          "metadata": {},
          "execution_count": 140
        }
      ]
    },
    {
      "cell_type": "code",
      "source": [
        "df.info()"
      ],
      "metadata": {
        "colab": {
          "base_uri": "https://localhost:8080/"
        },
        "id": "YvPQttd4eiiX",
        "outputId": "4cb3ccb2-240a-498e-ce22-22a029b43194"
      },
      "execution_count": 141,
      "outputs": [
        {
          "output_type": "stream",
          "name": "stdout",
          "text": [
            "<class 'pandas.core.frame.DataFrame'>\n",
            "RangeIndex: 332 entries, 0 to 331\n",
            "Data columns (total 6 columns):\n",
            " #   Column       Non-Null Count  Dtype \n",
            "---  ------       --------------  ----- \n",
            " 0   S_No         332 non-null    int64 \n",
            " 1   PLAYERS      332 non-null    object\n",
            " 2   NATIONALITY  332 non-null    object\n",
            " 3   TYPE         332 non-null    object\n",
            " 4   PRICE        332 non-null    int64 \n",
            " 5   TEAM         332 non-null    object\n",
            "dtypes: int64(2), object(4)\n",
            "memory usage: 15.7+ KB\n"
          ]
        }
      ]
    },
    {
      "cell_type": "code",
      "source": [
        "# Players Indian vs Overseas\n",
        "indian_players = df[df[\"NATIONALITY\"] == \"Indian\"].shape[0]\n",
        "overseas_players = df[df[\"NATIONALITY\"] != \"Overseas\"].shape[0]\n",
        "\n",
        "print(f\"Number of Indian players: {indian_players}\")\n",
        "print(f\"Number of Overseas players: {overseas_players}\")"
      ],
      "metadata": {
        "colab": {
          "base_uri": "https://localhost:8080/"
        },
        "id": "22vC8qGCgFVr",
        "outputId": "b1611e14-723d-4d76-b68c-96c4be480c49"
      },
      "execution_count": 142,
      "outputs": [
        {
          "output_type": "stream",
          "name": "stdout",
          "text": [
            "Number of Indian players: 216\n",
            "Number of Overseas players: 216\n"
          ]
        }
      ]
    },
    {
      "cell_type": "code",
      "source": [
        "# Average price of players\n",
        "\n",
        "avg_price = np.average(df[\"PRICE\"])\n",
        "print(\"Average price of players:₹{:,.2f}\".format(avg_price))"
      ],
      "metadata": {
        "colab": {
          "base_uri": "https://localhost:8080/"
        },
        "id": "bcYOrsY4mjnJ",
        "outputId": "7672927d-0a1a-43ec-f343-eb1bc21823b2"
      },
      "execution_count": 143,
      "outputs": [
        {
          "output_type": "stream",
          "name": "stdout",
          "text": [
            "Average price of players:₹10,093,373.49\n"
          ]
        }
      ]
    },
    {
      "cell_type": "code",
      "source": [
        "# Unique player types\n",
        "# Use set() to get unique types\n",
        "unique_types = set(df[\"TYPE\"])\n",
        "print(unique_types)"
      ],
      "metadata": {
        "colab": {
          "base_uri": "https://localhost:8080/"
        },
        "id": "LNMHFiutt4XH",
        "outputId": "588b980a-0bf5-4d19-8013-3f7a819d13b8"
      },
      "execution_count": 144,
      "outputs": [
        {
          "output_type": "stream",
          "name": "stdout",
          "text": [
            "{'Wicket-Keeper', 'Batter', 'Bowler', 'All-Rounder'}\n"
          ]
        }
      ]
    },
    {
      "cell_type": "code",
      "source": [
        "# Team with most players\n",
        "\n",
        "players = df.groupby(\"TEAM\").size().nlargest()\n",
        "most_player = players.idxmax()\n",
        "print(players)\n",
        "\n"
      ],
      "metadata": {
        "colab": {
          "base_uri": "https://localhost:8080/"
        },
        "id": "v7dARcqZmjkX",
        "outputId": "5f4fa3f1-9946-4d8b-efad-a9718c0c392b"
      },
      "execution_count": 145,
      "outputs": [
        {
          "output_type": "stream",
          "name": "stdout",
          "text": [
            "TEAM\n",
            "Un-Sold    260\n",
            "KKR         10\n",
            "DC           9\n",
            "GT           8\n",
            "MI           8\n",
            "dtype: int64\n"
          ]
        }
      ]
    },
    {
      "cell_type": "markdown",
      "source": [
        "# **Grouping and Aggregation**"
      ],
      "metadata": {
        "id": "5SCuY-7Fuizh"
      }
    },
    {
      "cell_type": "code",
      "source": [
        "# Total amount spent per team\n",
        "from sklearn import datasets\n",
        "from IPython.display import display\n",
        "pd.set_option('display.max_rows', None)\n",
        "pd.set_option('display.max_columns', None)\n",
        "total_amount_spent = df.groupby(['TEAM']).agg({'PRICE':['sum']}).style.format(\"₹{:,.2f}\")\n",
        "display (total_amount_spent)\n",
        "print(total_amount_spent)"
      ],
      "metadata": {
        "colab": {
          "base_uri": "https://localhost:8080/",
          "height": 474
        },
        "id": "77ZPnsJwmjhW",
        "outputId": "5a4605fe-2da1-405f-8f0a-2824906cbcaa"
      },
      "execution_count": 146,
      "outputs": [
        {
          "output_type": "display_data",
          "data": {
            "text/plain": [
              "<pandas.io.formats.style.Styler at 0x7e11eac565d0>"
            ],
            "text/html": [
              "<style type=\"text/css\">\n",
              "</style>\n",
              "<table id=\"T_0115a\" class=\"dataframe\">\n",
              "  <thead>\n",
              "    <tr>\n",
              "      <th class=\"blank level0\" >&nbsp;</th>\n",
              "      <th id=\"T_0115a_level0_col0\" class=\"col_heading level0 col0\" >PRICE</th>\n",
              "    </tr>\n",
              "    <tr>\n",
              "      <th class=\"blank level1\" >&nbsp;</th>\n",
              "      <th id=\"T_0115a_level1_col0\" class=\"col_heading level1 col0\" >sum</th>\n",
              "    </tr>\n",
              "    <tr>\n",
              "      <th class=\"index_name level0\" >TEAM</th>\n",
              "      <th class=\"blank col0\" >&nbsp;</th>\n",
              "    </tr>\n",
              "  </thead>\n",
              "  <tbody>\n",
              "    <tr>\n",
              "      <th id=\"T_0115a_level0_row0\" class=\"row_heading level0 row0\" >CSK</th>\n",
              "      <td id=\"T_0115a_row0_col0\" class=\"data row0 col0\" >₹304,000,000.00</td>\n",
              "    </tr>\n",
              "    <tr>\n",
              "      <th id=\"T_0115a_level0_row1\" class=\"row_heading level0 row1\" >DC</th>\n",
              "      <td id=\"T_0115a_row1_col0\" class=\"data row1 col0\" >₹190,500,000.00</td>\n",
              "    </tr>\n",
              "    <tr>\n",
              "      <th id=\"T_0115a_level0_row2\" class=\"row_heading level0 row2\" >GT</th>\n",
              "      <td id=\"T_0115a_row2_col0\" class=\"data row2 col0\" >₹303,000,000.00</td>\n",
              "    </tr>\n",
              "    <tr>\n",
              "      <th id=\"T_0115a_level0_row3\" class=\"row_heading level0 row3\" >KKR</th>\n",
              "      <td id=\"T_0115a_row3_col0\" class=\"data row3 col0\" >₹313,500,000.00</td>\n",
              "    </tr>\n",
              "    <tr>\n",
              "      <th id=\"T_0115a_level0_row4\" class=\"row_heading level0 row4\" >LSG</th>\n",
              "      <td id=\"T_0115a_row4_col0\" class=\"data row4 col0\" >₹122,000,000.00</td>\n",
              "    </tr>\n",
              "    <tr>\n",
              "      <th id=\"T_0115a_level0_row5\" class=\"row_heading level0 row5\" >MI</th>\n",
              "      <td id=\"T_0115a_row5_col0\" class=\"data row5 col0\" >₹167,000,000.00</td>\n",
              "    </tr>\n",
              "    <tr>\n",
              "      <th id=\"T_0115a_level0_row6\" class=\"row_heading level0 row6\" >PK</th>\n",
              "      <td id=\"T_0115a_row6_col0\" class=\"data row6 col0\" >₹249,500,000.00</td>\n",
              "    </tr>\n",
              "    <tr>\n",
              "      <th id=\"T_0115a_level0_row7\" class=\"row_heading level0 row7\" >RCB</th>\n",
              "      <td id=\"T_0115a_row7_col0\" class=\"data row7 col0\" >₹204,000,000.00</td>\n",
              "    </tr>\n",
              "    <tr>\n",
              "      <th id=\"T_0115a_level0_row8\" class=\"row_heading level0 row8\" >RR</th>\n",
              "      <td id=\"T_0115a_row8_col0\" class=\"data row8 col0\" >₹143,000,000.00</td>\n",
              "    </tr>\n",
              "    <tr>\n",
              "      <th id=\"T_0115a_level0_row9\" class=\"row_heading level0 row9\" >SH</th>\n",
              "      <td id=\"T_0115a_row9_col0\" class=\"data row9 col0\" >₹308,000,000.00</td>\n",
              "    </tr>\n",
              "    <tr>\n",
              "      <th id=\"T_0115a_level0_row10\" class=\"row_heading level0 row10\" >Un-Sold</th>\n",
              "      <td id=\"T_0115a_row10_col0\" class=\"data row10 col0\" >₹1,046,500,000.00</td>\n",
              "    </tr>\n",
              "  </tbody>\n",
              "</table>\n"
            ]
          },
          "metadata": {}
        },
        {
          "output_type": "stream",
          "name": "stdout",
          "text": [
            "<pandas.io.formats.style.Styler object at 0x7e11eac565d0>\n"
          ]
        }
      ]
    },
    {
      "cell_type": "code",
      "source": [
        "#Team spent max amount\n",
        "df1 = df.drop(df[df[\"TEAM\"]==\"Un-Sold\"].index)\n",
        "amount_spent = df1.groupby(['TEAM'])['PRICE'].sum().sort_values(ascending=False).head(1)\n",
        "display (amount_spent)\n",
        "print(amount_spent)"
      ],
      "metadata": {
        "colab": {
          "base_uri": "https://localhost:8080/",
          "height": 199
        },
        "id": "ei8FnPO_mjee",
        "outputId": "cbda7332-e88f-4f14-e5f6-2b5c0f10cd23"
      },
      "execution_count": 147,
      "outputs": [
        {
          "output_type": "display_data",
          "data": {
            "text/plain": [
              "TEAM\n",
              "KKR    313500000\n",
              "Name: PRICE, dtype: int64"
            ],
            "text/html": [
              "<div>\n",
              "<style scoped>\n",
              "    .dataframe tbody tr th:only-of-type {\n",
              "        vertical-align: middle;\n",
              "    }\n",
              "\n",
              "    .dataframe tbody tr th {\n",
              "        vertical-align: top;\n",
              "    }\n",
              "\n",
              "    .dataframe thead th {\n",
              "        text-align: right;\n",
              "    }\n",
              "</style>\n",
              "<table border=\"1\" class=\"dataframe\">\n",
              "  <thead>\n",
              "    <tr style=\"text-align: right;\">\n",
              "      <th></th>\n",
              "      <th>PRICE</th>\n",
              "    </tr>\n",
              "    <tr>\n",
              "      <th>TEAM</th>\n",
              "      <th></th>\n",
              "    </tr>\n",
              "  </thead>\n",
              "  <tbody>\n",
              "    <tr>\n",
              "      <th>KKR</th>\n",
              "      <td>313500000</td>\n",
              "    </tr>\n",
              "  </tbody>\n",
              "</table>\n",
              "</div><br><label><b>dtype:</b> int64</label>"
            ]
          },
          "metadata": {}
        },
        {
          "output_type": "stream",
          "name": "stdout",
          "text": [
            "TEAM\n",
            "KKR    313500000\n",
            "Name: PRICE, dtype: int64\n"
          ]
        }
      ]
    },
    {
      "cell_type": "code",
      "source": [
        "# The average price of Indian players vs Overseas players\n",
        "\n",
        "avg_price = df.groupby('NATIONALITY').agg({'PRICE':['mean']}).style.format(\"₹{:,.2f}\")\n",
        "display (avg_price)\n",
        "print(avg_price)"
      ],
      "metadata": {
        "colab": {
          "base_uri": "https://localhost:8080/",
          "height": 192
        },
        "id": "bq8u_7oqhviL",
        "outputId": "d612f98e-6f03-4ad7-c668-2a38c7d179be"
      },
      "execution_count": 148,
      "outputs": [
        {
          "output_type": "display_data",
          "data": {
            "text/plain": [
              "<pandas.io.formats.style.Styler at 0x7e11eaf15450>"
            ],
            "text/html": [
              "<style type=\"text/css\">\n",
              "</style>\n",
              "<table id=\"T_0ffa9\" class=\"dataframe\">\n",
              "  <thead>\n",
              "    <tr>\n",
              "      <th class=\"blank level0\" >&nbsp;</th>\n",
              "      <th id=\"T_0ffa9_level0_col0\" class=\"col_heading level0 col0\" >PRICE</th>\n",
              "    </tr>\n",
              "    <tr>\n",
              "      <th class=\"blank level1\" >&nbsp;</th>\n",
              "      <th id=\"T_0ffa9_level1_col0\" class=\"col_heading level1 col0\" >mean</th>\n",
              "    </tr>\n",
              "    <tr>\n",
              "      <th class=\"index_name level0\" >NATIONALITY</th>\n",
              "      <th class=\"blank col0\" >&nbsp;</th>\n",
              "    </tr>\n",
              "  </thead>\n",
              "  <tbody>\n",
              "    <tr>\n",
              "      <th id=\"T_0ffa9_level0_row0\" class=\"row_heading level0 row0\" >Indian</th>\n",
              "      <td id=\"T_0ffa9_row0_col0\" class=\"data row0 col0\" >₹5,400,462.96</td>\n",
              "    </tr>\n",
              "    <tr>\n",
              "      <th id=\"T_0ffa9_level0_row1\" class=\"row_heading level0 row1\" >Overseas</th>\n",
              "      <td id=\"T_0ffa9_row1_col0\" class=\"data row1 col0\" >₹18,831,896.55</td>\n",
              "    </tr>\n",
              "  </tbody>\n",
              "</table>\n"
            ]
          },
          "metadata": {}
        },
        {
          "output_type": "stream",
          "name": "stdout",
          "text": [
            "<pandas.io.formats.style.Styler object at 0x7e11eaf15450>\n"
          ]
        }
      ]
    },
    {
      "cell_type": "code",
      "source": [
        "# Number of players per type\n",
        "players_per_type = df.groupby('TYPE').size()\n",
        "print(players_per_type)"
      ],
      "metadata": {
        "colab": {
          "base_uri": "https://localhost:8080/"
        },
        "id": "i6QjKHy7hver",
        "outputId": "9f5feca1-2b8d-4ca1-b81f-2fcc5789bdaa"
      },
      "execution_count": 149,
      "outputs": [
        {
          "output_type": "stream",
          "name": "stdout",
          "text": [
            "TYPE\n",
            "All-Rounder      114\n",
            "Batter            53\n",
            "Bowler           128\n",
            "Wicket-Keeper     37\n",
            "dtype: int64\n"
          ]
        }
      ]
    },
    {
      "cell_type": "code",
      "source": [
        "#Average price fo each palyer type\n",
        "avg_price = df.groupby('TYPE').agg({'PRICE':['mean']}).style.format(\"₹{:,.2f}\")\n",
        "display (avg_price)\n",
        "print(avg_price)"
      ],
      "metadata": {
        "colab": {
          "base_uri": "https://localhost:8080/",
          "height": 255
        },
        "id": "L-Js0jWxhvbe",
        "outputId": "935a9640-f854-4b3c-f87d-031c6a2ff9ef"
      },
      "execution_count": 150,
      "outputs": [
        {
          "output_type": "display_data",
          "data": {
            "text/plain": [
              "<pandas.io.formats.style.Styler at 0x7e11eaeca450>"
            ],
            "text/html": [
              "<style type=\"text/css\">\n",
              "</style>\n",
              "<table id=\"T_c7928\" class=\"dataframe\">\n",
              "  <thead>\n",
              "    <tr>\n",
              "      <th class=\"blank level0\" >&nbsp;</th>\n",
              "      <th id=\"T_c7928_level0_col0\" class=\"col_heading level0 col0\" >PRICE</th>\n",
              "    </tr>\n",
              "    <tr>\n",
              "      <th class=\"blank level1\" >&nbsp;</th>\n",
              "      <th id=\"T_c7928_level1_col0\" class=\"col_heading level1 col0\" >mean</th>\n",
              "    </tr>\n",
              "    <tr>\n",
              "      <th class=\"index_name level0\" >TYPE</th>\n",
              "      <th class=\"blank col0\" >&nbsp;</th>\n",
              "    </tr>\n",
              "  </thead>\n",
              "  <tbody>\n",
              "    <tr>\n",
              "      <th id=\"T_c7928_level0_row0\" class=\"row_heading level0 row0\" >All-Rounder</th>\n",
              "      <td id=\"T_c7928_row0_col0\" class=\"data row0 col0\" >₹9,934,210.53</td>\n",
              "    </tr>\n",
              "    <tr>\n",
              "      <th id=\"T_c7928_level0_row1\" class=\"row_heading level0 row1\" >Batter</th>\n",
              "      <td id=\"T_c7928_row1_col0\" class=\"data row1 col0\" >₹11,669,811.32</td>\n",
              "    </tr>\n",
              "    <tr>\n",
              "      <th id=\"T_c7928_level0_row2\" class=\"row_heading level0 row2\" >Bowler</th>\n",
              "      <td id=\"T_c7928_row2_col0\" class=\"data row2 col0\" >₹10,511,718.75</td>\n",
              "    </tr>\n",
              "    <tr>\n",
              "      <th id=\"T_c7928_level0_row3\" class=\"row_heading level0 row3\" >Wicket-Keeper</th>\n",
              "      <td id=\"T_c7928_row3_col0\" class=\"data row3 col0\" >₹6,878,378.38</td>\n",
              "    </tr>\n",
              "  </tbody>\n",
              "</table>\n"
            ]
          },
          "metadata": {}
        },
        {
          "output_type": "stream",
          "name": "stdout",
          "text": [
            "<pandas.io.formats.style.Styler object at 0x7e11eaeca450>\n"
          ]
        }
      ]
    },
    {
      "cell_type": "code",
      "source": [
        "# Players who were bought for more than ₹5 crores\n",
        "high_priced_players = df[df['PRICE'] > 50000000]\n",
        "print(high_priced_players)"
      ],
      "metadata": {
        "colab": {
          "base_uri": "https://localhost:8080/"
        },
        "id": "prRvbm_QhvWz",
        "outputId": "6b97b8a4-f0cc-4aee-9fde-ad2aefd78fb0"
      },
      "execution_count": 151,
      "outputs": [
        {
          "output_type": "stream",
          "name": "stdout",
          "text": [
            "    S_No          PLAYERS NATIONALITY           TYPE      PRICE TEAM\n",
            "2      2   Daryl Mitchell    Overseas    All-Rounder  140000000  CSK\n",
            "3      3     Sameer Rizvi      Indian         Batter   84000000  CSK\n",
            "12    12   Kumar Kushagra      Indian  Wicket-Keeper   72000000   DC\n",
            "16    16  Spencer Johnson    Overseas         Bowler  100000000   GT\n",
            "21    21    Shahrukh Khan      Indian    All-Rounder   74000000   GT\n",
            "22    22      Umesh Yadav      Indian         Bowler   58000000   GT\n",
            "27    27   Mitchell Starc    Overseas         Bowler  247500000  KKR\n",
            "36    36      Shivam Mavi      Indian         Bowler   64000000  LSG\n",
            "52    52    Rilee Rossouw    Overseas         Batter   80000000   PK\n",
            "54    54    Harshal Patel      Indian    All-Rounder  117500000   PK\n",
            "55    55    Shubham Dubey      Indian         Batter   58000000   RR\n",
            "56    56    Rovman Powell    Overseas         Batter   74000000   RR\n",
            "63    63   Alzarri Joseph    Overseas         Bowler  115000000  RCB\n",
            "70    70      Pat Cummins    Overseas    All-Rounder  205000000   SH\n",
            "71    71      Travis Head    Overseas         Batter   68000000   SH\n"
          ]
        }
      ]
    },
    {
      "cell_type": "code",
      "source": [
        "#Most expensive palyer\n",
        "pd.options.mode.copy_on_write = True\n",
        "most_expensive_player = df[df['PRICE'] == df['PRICE'].max()]\n",
        "most_expensive_player[\"PRICE\"] = df[\"PRICE\"].map(\"₹{:,.2f}\".format)\n",
        "print(most_expensive_player)"
      ],
      "metadata": {
        "colab": {
          "base_uri": "https://localhost:8080/"
        },
        "id": "GYMTuA_hhvUM",
        "outputId": "0f0d1578-7818-4356-d783-9e33455a31d6"
      },
      "execution_count": 152,
      "outputs": [
        {
          "output_type": "stream",
          "name": "stdout",
          "text": [
            "    S_No         PLAYERS NATIONALITY    TYPE            PRICE TEAM\n",
            "27    27  Mitchell Starc    Overseas  Bowler  ₹247,500,000.00  KKR\n"
          ]
        }
      ]
    },
    {
      "cell_type": "code",
      "source": [
        "#Team with most overseas players\n",
        "overseas_players = df[(df['NATIONALITY'] != 'Indian') & (df['TEAM'] != 'Un-Sold')]\n",
        "team_with_most_overseas = overseas_players.groupby('TEAM').size().idxmax()\n",
        "print(team_with_most_overseas)"
      ],
      "metadata": {
        "colab": {
          "base_uri": "https://localhost:8080/"
        },
        "id": "nRcVCaDa6c1P",
        "outputId": "c2c47b99-fcc2-4b17-d5a3-596237edcc3d"
      },
      "execution_count": 153,
      "outputs": [
        {
          "output_type": "stream",
          "name": "stdout",
          "text": [
            "DC\n"
          ]
        }
      ]
    },
    {
      "cell_type": "code",
      "source": [
        "# List of Wicket-Keepers and their respective teams and prices.\n",
        "wicket_keepers = df[(df['TYPE'] == 'Wicket-Keeper') & (df['TEAM'] != 'Un-Sold')]\n",
        "\n",
        "list_wicket_keepers = wicket_keepers[['PLAYERS', 'TEAM', 'PRICE']]\n",
        "list_wicket_keepers[\"PRICE\"] = df[\"PRICE\"].map(\"₹{:,.2f}\".format)\n",
        "print(list_wicket_keepers)\n",
        ""
      ],
      "metadata": {
        "colab": {
          "base_uri": "https://localhost:8080/"
        },
        "id": "QymYk7BVhvRS",
        "outputId": "c4f15810-8c60-4012-9690-7dc49c677ef4"
      },
      "execution_count": 154,
      "outputs": [
        {
          "output_type": "stream",
          "name": "stdout",
          "text": [
            "                 PLAYERS TEAM           PRICE\n",
            "0   Avanish Rao Aravelly  CSK   ₹2,000,000.00\n",
            "6             Ricky Bhui   DC   ₹2,000,000.00\n",
            "10             Shai Hope   DC   ₹7,500,000.00\n",
            "12        Kumar Kushagra   DC  ₹72,000,000.00\n",
            "13        Tristan Stubbs   DC   ₹5,000,000.00\n",
            "18            Robin Minz   GT  ₹36,000,000.00\n",
            "30           K.S. Bharat  KKR   ₹5,000,000.00\n",
            "59    Tom Kohler-Cadmore   RR   ₹4,000,000.00\n"
          ]
        }
      ]
    },
    {
      "cell_type": "code",
      "source": [
        "#Expensive indian player\n",
        "indian_players = df[(df['NATIONALITY'] == 'Indian') & (df['TEAM'] != 'Un-Sold')]\n",
        "indian_players[\"PRICE\"] = df[\"PRICE\"].map(\"₹{:,.2f}\".format)\n",
        "most_expensive_indian = indian_players.groupby('PLAYERS')['PRICE'].sum().sort_values(ascending=False).head(3)\n",
        "print(most_expensive_indian)"
      ],
      "metadata": {
        "colab": {
          "base_uri": "https://localhost:8080/"
        },
        "id": "lgVbwO9thvOM",
        "outputId": "8404f299-65fb-4d0a-a1a5-12d65b5a46b9"
      },
      "execution_count": 155,
      "outputs": [
        {
          "output_type": "stream",
          "name": "stdout",
          "text": [
            "PLAYERS\n",
            "Sameer Rizvi      ₹84,000,000.00\n",
            "Shahrukh Khan     ₹74,000,000.00\n",
            "Kumar Kushagra    ₹72,000,000.00\n",
            "Name: PRICE, dtype: object\n"
          ]
        }
      ]
    },
    {
      "cell_type": "markdown",
      "source": [
        "# **Advanced/Insightful**"
      ],
      "metadata": {
        "id": "3rsNT0IunvKu"
      }
    },
    {
      "cell_type": "code",
      "source": [
        "# Team spent the most per player on average\n",
        "avg_price_per_player = df.groupby(['TEAM']).agg({'PRICE':['mean']}).style.format(\"₹{:,.2f}\")\n",
        "display (avg_price_per_player)\n",
        "print(avg_price_per_player)"
      ],
      "metadata": {
        "colab": {
          "base_uri": "https://localhost:8080/",
          "height": 474
        },
        "id": "MSiUknS7n0YD",
        "outputId": "83572a76-2b28-481c-873d-3b8251621b7e"
      },
      "execution_count": 156,
      "outputs": [
        {
          "output_type": "display_data",
          "data": {
            "text/plain": [
              "<pandas.io.formats.style.Styler at 0x7e11eab604d0>"
            ],
            "text/html": [
              "<style type=\"text/css\">\n",
              "</style>\n",
              "<table id=\"T_34091\" class=\"dataframe\">\n",
              "  <thead>\n",
              "    <tr>\n",
              "      <th class=\"blank level0\" >&nbsp;</th>\n",
              "      <th id=\"T_34091_level0_col0\" class=\"col_heading level0 col0\" >PRICE</th>\n",
              "    </tr>\n",
              "    <tr>\n",
              "      <th class=\"blank level1\" >&nbsp;</th>\n",
              "      <th id=\"T_34091_level1_col0\" class=\"col_heading level1 col0\" >mean</th>\n",
              "    </tr>\n",
              "    <tr>\n",
              "      <th class=\"index_name level0\" >TEAM</th>\n",
              "      <th class=\"blank col0\" >&nbsp;</th>\n",
              "    </tr>\n",
              "  </thead>\n",
              "  <tbody>\n",
              "    <tr>\n",
              "      <th id=\"T_34091_level0_row0\" class=\"row_heading level0 row0\" >CSK</th>\n",
              "      <td id=\"T_34091_row0_col0\" class=\"data row0 col0\" >₹50,666,666.67</td>\n",
              "    </tr>\n",
              "    <tr>\n",
              "      <th id=\"T_34091_level0_row1\" class=\"row_heading level0 row1\" >DC</th>\n",
              "      <td id=\"T_34091_row1_col0\" class=\"data row1 col0\" >₹21,166,666.67</td>\n",
              "    </tr>\n",
              "    <tr>\n",
              "      <th id=\"T_34091_level0_row2\" class=\"row_heading level0 row2\" >GT</th>\n",
              "      <td id=\"T_34091_row2_col0\" class=\"data row2 col0\" >₹37,875,000.00</td>\n",
              "    </tr>\n",
              "    <tr>\n",
              "      <th id=\"T_34091_level0_row3\" class=\"row_heading level0 row3\" >KKR</th>\n",
              "      <td id=\"T_34091_row3_col0\" class=\"data row3 col0\" >₹31,350,000.00</td>\n",
              "    </tr>\n",
              "    <tr>\n",
              "      <th id=\"T_34091_level0_row4\" class=\"row_heading level0 row4\" >LSG</th>\n",
              "      <td id=\"T_34091_row4_col0\" class=\"data row4 col0\" >₹20,333,333.33</td>\n",
              "    </tr>\n",
              "    <tr>\n",
              "      <th id=\"T_34091_level0_row5\" class=\"row_heading level0 row5\" >MI</th>\n",
              "      <td id=\"T_34091_row5_col0\" class=\"data row5 col0\" >₹20,875,000.00</td>\n",
              "    </tr>\n",
              "    <tr>\n",
              "      <th id=\"T_34091_level0_row6\" class=\"row_heading level0 row6\" >PK</th>\n",
              "      <td id=\"T_34091_row6_col0\" class=\"data row6 col0\" >₹31,187,500.00</td>\n",
              "    </tr>\n",
              "    <tr>\n",
              "      <th id=\"T_34091_level0_row7\" class=\"row_heading level0 row7\" >RCB</th>\n",
              "      <td id=\"T_34091_row7_col0\" class=\"data row7 col0\" >₹34,000,000.00</td>\n",
              "    </tr>\n",
              "    <tr>\n",
              "      <th id=\"T_34091_level0_row8\" class=\"row_heading level0 row8\" >RR</th>\n",
              "      <td id=\"T_34091_row8_col0\" class=\"data row8 col0\" >₹28,600,000.00</td>\n",
              "    </tr>\n",
              "    <tr>\n",
              "      <th id=\"T_34091_level0_row9\" class=\"row_heading level0 row9\" >SH</th>\n",
              "      <td id=\"T_34091_row9_col0\" class=\"data row9 col0\" >₹51,333,333.33</td>\n",
              "    </tr>\n",
              "    <tr>\n",
              "      <th id=\"T_34091_level0_row10\" class=\"row_heading level0 row10\" >Un-Sold</th>\n",
              "      <td id=\"T_34091_row10_col0\" class=\"data row10 col0\" >₹4,025,000.00</td>\n",
              "    </tr>\n",
              "  </tbody>\n",
              "</table>\n"
            ]
          },
          "metadata": {}
        },
        {
          "output_type": "stream",
          "name": "stdout",
          "text": [
            "<pandas.io.formats.style.Styler object at 0x7e11eab604d0>\n"
          ]
        }
      ]
    },
    {
      "cell_type": "code",
      "source": [
        "# The number of players by type for each team.\n",
        "player_count_by_type_and_team = df.groupby(['TEAM', 'TYPE']).size().reset_index(name='Player Count')\n",
        "print(player_count_by_type_and_team)"
      ],
      "metadata": {
        "colab": {
          "base_uri": "https://localhost:8080/"
        },
        "id": "ZtmZ80pQn03q",
        "outputId": "458ee231-d5cb-4b4a-c292-2f7c9fa07e14"
      },
      "execution_count": 185,
      "outputs": [
        {
          "output_type": "stream",
          "name": "stdout",
          "text": [
            "       TEAM           TYPE  Player Count\n",
            "0       CSK    All-Rounder             3\n",
            "1       CSK         Batter             1\n",
            "2       CSK         Bowler             1\n",
            "3       CSK  Wicket-Keeper             1\n",
            "4        DC    All-Rounder             1\n",
            "5        DC         Batter             2\n",
            "6        DC         Bowler             2\n",
            "7        DC  Wicket-Keeper             4\n",
            "8        GT    All-Rounder             2\n",
            "9        GT         Bowler             5\n",
            "10       GT  Wicket-Keeper             1\n",
            "11      KKR    All-Rounder             1\n",
            "12      KKR         Batter             3\n",
            "13      KKR         Bowler             5\n",
            "14      KKR  Wicket-Keeper             1\n",
            "15      LSG    All-Rounder             3\n",
            "16      LSG         Batter             1\n",
            "17      LSG         Bowler             2\n",
            "18       MI    All-Rounder             5\n",
            "19       MI         Bowler             3\n",
            "20       PK    All-Rounder             5\n",
            "21       PK         Batter             2\n",
            "22       PK         Bowler             1\n",
            "23      RCB    All-Rounder             2\n",
            "24      RCB         Batter             1\n",
            "25      RCB         Bowler             3\n",
            "26       RR    All-Rounder             1\n",
            "27       RR         Batter             2\n",
            "28       RR         Bowler             1\n",
            "29       RR  Wicket-Keeper             1\n",
            "30       SH    All-Rounder             2\n",
            "31       SH         Batter             1\n",
            "32       SH         Bowler             3\n",
            "33  Un-Sold    All-Rounder            89\n",
            "34  Un-Sold         Batter            40\n",
            "35  Un-Sold         Bowler           102\n",
            "36  Un-Sold  Wicket-Keeper            29\n"
          ]
        }
      ]
    },
    {
      "cell_type": "code",
      "source": [
        "# The percentage of overseas players in each team.\n",
        "def calculate_overseas_percentage(df):\n",
        "\n",
        "  # Calculate the percentage of overseas players for each team\n",
        "  overseas_percentage = (\n",
        "      df.groupby('TEAM').apply(lambda x: len(x[x['NATIONALITY'] != 'Indian']) / len(x) * 100)\n",
        "  )\n",
        "  return overseas_percentage.map(\"{:,.2f}\".format)\n",
        "\n",
        "result = calculate_overseas_percentage(df)\n",
        "print(result)"
      ],
      "metadata": {
        "colab": {
          "base_uri": "https://localhost:8080/"
        },
        "id": "dTG51cV5n005",
        "outputId": "0fbc0ccc-c520-4cda-a045-107b9a4f1139"
      },
      "execution_count": 181,
      "outputs": [
        {
          "output_type": "stream",
          "name": "stdout",
          "text": [
            "TEAM\n",
            "CSK        50.00\n",
            "DC         44.44\n",
            "GT         25.00\n",
            "KKR        40.00\n",
            "LSG        33.33\n",
            "MI         50.00\n",
            "PK         25.00\n",
            "RCB        50.00\n",
            "RR         60.00\n",
            "SH         50.00\n",
            "Un-Sold    33.08\n",
            "dtype: object\n"
          ]
        },
        {
          "output_type": "stream",
          "name": "stderr",
          "text": [
            "<ipython-input-181-65966a3ab202>:6: DeprecationWarning: DataFrameGroupBy.apply operated on the grouping columns. This behavior is deprecated, and in a future version of pandas the grouping columns will be excluded from the operation. Either pass `include_groups=False` to exclude the groupings or explicitly select the grouping columns after groupby to silence this warning.\n",
            "  df.groupby('TEAM').apply(lambda x: len(x[x['NATIONALITY'] != 'Indian']) / len(x) * 100)\n"
          ]
        }
      ]
    },
    {
      "cell_type": "code",
      "source": [
        "# The cheapest overseas player\n",
        "overseas_players = df[(df['NATIONALITY'] != 'Indian') & (df['TEAM'] != 'Un-Sold')]\n",
        "cheapest_overseas_player = overseas_players.loc[overseas_players['PRICE'].idxmin()]\n",
        "print(cheapest_overseas_player)"
      ],
      "metadata": {
        "colab": {
          "base_uri": "https://localhost:8080/"
        },
        "id": "p-wiTZuwn0yB",
        "outputId": "2e63bcc5-d243-44bd-bcc3-f5b344d0b599"
      },
      "execution_count": 203,
      "outputs": [
        {
          "output_type": "stream",
          "name": "stdout",
          "text": [
            "S_No                           59\n",
            "PLAYERS        Tom Kohler-Cadmore\n",
            "NATIONALITY              Overseas\n",
            "TYPE                Wicket-Keeper\n",
            "PRICE                     4000000\n",
            "TEAM                           RR\n",
            "Name: 59, dtype: object\n"
          ]
        }
      ]
    },
    {
      "cell_type": "code",
      "source": [
        "#20.Distribution of player prices using a box plot or histogram.\n",
        "player_prices = df['PRICE']\n",
        "\n",
        "player_prices_series = pd.Series(player_prices)\n",
        "num_bins = 25\n",
        "\n",
        "# Create the histogram\n",
        "plt.figure(figsize=(10, 6))\n",
        "plt.hist(player_prices, bins=num_bins, color='skyblue', edgecolor='black')\n",
        "plt.title('Distribution of Player Prices (Histogram)')\n",
        "plt.xlabel('Price (in Rupees-crore)')\n",
        "plt.ylabel('Frequency')\n",
        "plt.grid(True, alpha=0.5)\n",
        "plt.show()\n"
      ],
      "metadata": {
        "colab": {
          "base_uri": "https://localhost:8080/",
          "height": 564
        },
        "id": "Yl3c8QBo8J4d",
        "outputId": "e7e6845a-89db-48cc-da81-a4bbf5b3a4e7"
      },
      "execution_count": 217,
      "outputs": [
        {
          "output_type": "display_data",
          "data": {
            "text/plain": [
              "<Figure size 1000x600 with 1 Axes>"
            ],
            "image/png": "[encoded data removed]"
          },
          "metadata": {}
        }
      ]
    },
    {
      "cell_type": "code",
      "source": [
        "# Create the box plot\n",
        "plt.figure(figsize=(10, 6))\n",
        "sns.boxplot(x=player_prices_series, color='lightgreen')\n",
        "plt.title('Distribution of Player Prices (Box Plot)')\n",
        "plt.xlabel('Price (in Rupees-crore)')\n",
        "plt.ylabel(' ') # No y-axis label needed for box plots\n",
        "plt.grid(True, alpha=0.5)\n",
        "plt.show()"
      ],
      "metadata": {
        "colab": {
          "base_uri": "https://localhost:8080/",
          "height": 564
        },
        "id": "1QTVe10SECii",
        "outputId": "723d377b-589d-4159-ba41-0a6d63732c67"
      },
      "execution_count": 218,
      "outputs": [
        {
          "output_type": "display_data",
          "data": {
            "text/plain": [
              "<Figure size 1000x600 with 1 Axes>"
            ],
            "image/png": "[encoded data removed]"
          },
          "metadata": {}
        }
      ]
    }
  ]
}